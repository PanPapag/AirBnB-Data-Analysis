{
 "cells": [
  {
   "cell_type": "markdown",
   "metadata": {},
   "source": [
    "# Airbnb Data Mining Notebook"
   ]
  },
  {
   "cell_type": "markdown",
   "metadata": {},
   "source": [
    "In this notebook we are going to deal with data from a well-known residential rental application, Airbnb. Specifically, based on the data for the Athens area for 3 months of 2019 (February, March and April), we are going to answer the following question: \n",
    "- What is the most common type of room_type for our data?\n",
    "- Plot graphs showing the fluctuation of prices for the 3 month period.\n",
    "- What are the top 5 neighborhoods with the most reviews?\n",
    "- What is the neighborhood with most real estate listings?\n",
    "- How many entries are per neighborhood and per month?\n",
    "- Plot the histogram of the neighborhood_group variable.\n",
    "- What is the most common type of room (room_type)?\n",
    "- What is the most common room type (room_type) in each neighborhood (neighborhood_group)?\n",
    "- What is the most expensive room type?"
   ]
  },
  {
   "cell_type": "markdown",
   "metadata": {},
   "source": [
    "## Import Libraries"
   ]
  },
  {
   "cell_type": "code",
   "execution_count": 1,
   "metadata": {},
   "outputs": [
    {
     "name": "stderr",
     "output_type": "stream",
     "text": [
      "[nltk_data] Downloading package stopwords to\n",
      "[nltk_data]     /Users/pantelis/nltk_data...\n",
      "[nltk_data]   Package stopwords is already up-to-date!\n"
     ]
    }
   ],
   "source": [
    "# Ignoring unnecessory warnings\n",
    "import warnings\n",
    "warnings.filterwarnings(\"ignore\")  \n",
    "# Specialized container datatypes\n",
    "import collections\n",
    "# For data vizualization \n",
    "import matplotlib as mpl\n",
    "import matplotlib.pyplot as plt\n",
    "%matplotlib inline\n",
    "import seaborn as sns\n",
    "# For large and multi-dimensional arrays\n",
    "import numpy as np\n",
    "# For data manipulation and analysis\n",
    "import pandas as pd\n",
    "# Natural language processing library\n",
    "import nltk\n",
    "nltk.download('stopwords')\n",
    "from nltk.corpus import stopwords\n",
    "from nltk.stem import WordNetLemmatizer \n",
    "from nltk.stem import SnowballStemmer\n",
    "from nltk.tokenize import word_tokenize\n",
    "from nltk.util import ngrams\n",
    "# For basic cleaning and data preprocessing \n",
    "import re\n",
    "import string \n",
    "# Communicating with operating and file system\n",
    "import os\n",
    "# Machine learning libary\n",
    "from sklearn.feature_extraction.text import CountVectorizer\n",
    "from sklearn.feature_extraction.text import TfidfVectorizer\n",
    "from sklearn.metrics import accuracy_score\n",
    "from sklearn.metrics import classification_report,confusion_matrix\n",
    "from sklearn.metrics import precision_recall_fscore_support as score\n",
    "from sklearn.model_selection import GridSearchCV\n",
    "from sklearn.model_selection import train_test_split\n",
    "from sklearn.naive_bayes import MultinomialNB\n",
    "# For wordcloud generating \n",
    "from wordcloud import WordCloud"
   ]
  },
  {
   "cell_type": "markdown",
   "metadata": {},
   "source": [
    "## Load Dataset"
   ]
  },
  {
   "cell_type": "markdown",
   "metadata": {},
   "source": [
    "Read the data using pandas' read_csv method and let's look at the dataset info to see if everything is alright."
   ]
  },
  {
   "cell_type": "code",
   "execution_count": 2,
   "metadata": {},
   "outputs": [
    {
     "data": {
      "text/html": [
       "<div>\n",
       "<style scoped>\n",
       "    .dataframe tbody tr th:only-of-type {\n",
       "        vertical-align: middle;\n",
       "    }\n",
       "\n",
       "    .dataframe tbody tr th {\n",
       "        vertical-align: top;\n",
       "    }\n",
       "\n",
       "    .dataframe thead th {\n",
       "        text-align: right;\n",
       "    }\n",
       "</style>\n",
       "<table border=\"1\" class=\"dataframe\">\n",
       "  <thead>\n",
       "    <tr style=\"text-align: right;\">\n",
       "      <th></th>\n",
       "      <th>id</th>\n",
       "      <th>month</th>\n",
       "      <th>name</th>\n",
       "      <th>description</th>\n",
       "      <th>transit</th>\n",
       "      <th>host_since</th>\n",
       "      <th>host_response_rate</th>\n",
       "      <th>host_has_profile_pic</th>\n",
       "      <th>host_identity_verified</th>\n",
       "      <th>neighbourhood</th>\n",
       "      <th>...</th>\n",
       "      <th>amenities</th>\n",
       "      <th>price</th>\n",
       "      <th>minimum_nights</th>\n",
       "      <th>availability_365</th>\n",
       "      <th>number_of_reviews</th>\n",
       "      <th>first_review</th>\n",
       "      <th>last_review</th>\n",
       "      <th>review_scores_rating</th>\n",
       "      <th>instant_bookable</th>\n",
       "      <th>cancellation_policy</th>\n",
       "    </tr>\n",
       "  </thead>\n",
       "  <tbody>\n",
       "    <tr>\n",
       "      <th>0</th>\n",
       "      <td>10595</td>\n",
       "      <td>February</td>\n",
       "      <td>96m2, 3BR, 2BA, Metro, WI-FI etc...</td>\n",
       "      <td>Athens Furnished Apartment No6 is 3-bedroom ap...</td>\n",
       "      <td>Note: 5-day ticket for all the public transpor...</td>\n",
       "      <td>2009-09-08</td>\n",
       "      <td>100%</td>\n",
       "      <td>t</td>\n",
       "      <td>t</td>\n",
       "      <td>Ambelokipi</td>\n",
       "      <td>...</td>\n",
       "      <td>{TV,\"Cable TV\",Internet,Wifi,\"Air conditioning...</td>\n",
       "      <td>$71.00</td>\n",
       "      <td>1</td>\n",
       "      <td>294</td>\n",
       "      <td>17</td>\n",
       "      <td>2011-05-20</td>\n",
       "      <td>2019-01-12</td>\n",
       "      <td>96.0</td>\n",
       "      <td>t</td>\n",
       "      <td>strict_14_with_grace_period</td>\n",
       "    </tr>\n",
       "    <tr>\n",
       "      <th>1</th>\n",
       "      <td>10988</td>\n",
       "      <td>February</td>\n",
       "      <td>75m2, 2-br, metro, wi-fi, cable TV</td>\n",
       "      <td>Athens Furnished Apartment No4 is 2-bedroom ap...</td>\n",
       "      <td>Note: 5-day ticket for all the public transpor...</td>\n",
       "      <td>2009-09-08</td>\n",
       "      <td>100%</td>\n",
       "      <td>t</td>\n",
       "      <td>t</td>\n",
       "      <td>Ambelokipi</td>\n",
       "      <td>...</td>\n",
       "      <td>{TV,\"Cable TV\",Internet,Wifi,\"Air conditioning...</td>\n",
       "      <td>$82.00</td>\n",
       "      <td>1</td>\n",
       "      <td>0</td>\n",
       "      <td>31</td>\n",
       "      <td>2012-10-21</td>\n",
       "      <td>2017-11-23</td>\n",
       "      <td>92.0</td>\n",
       "      <td>t</td>\n",
       "      <td>strict_14_with_grace_period</td>\n",
       "    </tr>\n",
       "    <tr>\n",
       "      <th>2</th>\n",
       "      <td>10990</td>\n",
       "      <td>February</td>\n",
       "      <td>50m2, Metro, WI-FI, cableTV, more</td>\n",
       "      <td>Athens Furnished Apartment No3 is 1-bedroom ap...</td>\n",
       "      <td>Note: 5-day ticket for all the public transpor...</td>\n",
       "      <td>2009-09-08</td>\n",
       "      <td>100%</td>\n",
       "      <td>t</td>\n",
       "      <td>t</td>\n",
       "      <td>Ambelokipi</td>\n",
       "      <td>...</td>\n",
       "      <td>{TV,\"Cable TV\",Internet,Wifi,\"Air conditioning...</td>\n",
       "      <td>$47.00</td>\n",
       "      <td>1</td>\n",
       "      <td>282</td>\n",
       "      <td>27</td>\n",
       "      <td>2012-09-06</td>\n",
       "      <td>2019-02-01</td>\n",
       "      <td>97.0</td>\n",
       "      <td>t</td>\n",
       "      <td>strict_14_with_grace_period</td>\n",
       "    </tr>\n",
       "    <tr>\n",
       "      <th>3</th>\n",
       "      <td>10993</td>\n",
       "      <td>February</td>\n",
       "      <td>Studio, metro, cable tv, wi-fi, etc</td>\n",
       "      <td>The Studio is an  -excellent located  -close t...</td>\n",
       "      <td>Note: 5-day ticket for all the public transpor...</td>\n",
       "      <td>2009-09-08</td>\n",
       "      <td>100%</td>\n",
       "      <td>t</td>\n",
       "      <td>t</td>\n",
       "      <td>Ambelokipi</td>\n",
       "      <td>...</td>\n",
       "      <td>{TV,\"Cable TV\",Internet,Wifi,\"Air conditioning...</td>\n",
       "      <td>$37.00</td>\n",
       "      <td>1</td>\n",
       "      <td>286</td>\n",
       "      <td>42</td>\n",
       "      <td>2012-09-24</td>\n",
       "      <td>2019-02-02</td>\n",
       "      <td>97.0</td>\n",
       "      <td>t</td>\n",
       "      <td>strict_14_with_grace_period</td>\n",
       "    </tr>\n",
       "    <tr>\n",
       "      <th>4</th>\n",
       "      <td>10995</td>\n",
       "      <td>February</td>\n",
       "      <td>47m2, close to metro,cable TV,wi-fi</td>\n",
       "      <td>AQA No2 is 1-bedroom apartment (47m2)  -excell...</td>\n",
       "      <td>Note: 5-day ticket for all the public transpor...</td>\n",
       "      <td>2009-09-08</td>\n",
       "      <td>100%</td>\n",
       "      <td>t</td>\n",
       "      <td>t</td>\n",
       "      <td>Ambelokipi</td>\n",
       "      <td>...</td>\n",
       "      <td>{TV,\"Cable TV\",Internet,Wifi,\"Air conditioning...</td>\n",
       "      <td>$47.00</td>\n",
       "      <td>2</td>\n",
       "      <td>308</td>\n",
       "      <td>16</td>\n",
       "      <td>2010-07-08</td>\n",
       "      <td>2019-01-11</td>\n",
       "      <td>95.0</td>\n",
       "      <td>t</td>\n",
       "      <td>strict_14_with_grace_period</td>\n",
       "    </tr>\n",
       "  </tbody>\n",
       "</table>\n",
       "<p>5 rows × 31 columns</p>\n",
       "</div>"
      ],
      "text/plain": [
       "      id     month                                 name  \\\n",
       "0  10595  February  96m2, 3BR, 2BA, Metro, WI-FI etc...   \n",
       "1  10988  February   75m2, 2-br, metro, wi-fi, cable TV   \n",
       "2  10990  February    50m2, Metro, WI-FI, cableTV, more   \n",
       "3  10993  February  Studio, metro, cable tv, wi-fi, etc   \n",
       "4  10995  February  47m2, close to metro,cable TV,wi-fi   \n",
       "\n",
       "                                         description  \\\n",
       "0  Athens Furnished Apartment No6 is 3-bedroom ap...   \n",
       "1  Athens Furnished Apartment No4 is 2-bedroom ap...   \n",
       "2  Athens Furnished Apartment No3 is 1-bedroom ap...   \n",
       "3  The Studio is an  -excellent located  -close t...   \n",
       "4  AQA No2 is 1-bedroom apartment (47m2)  -excell...   \n",
       "\n",
       "                                             transit  host_since  \\\n",
       "0  Note: 5-day ticket for all the public transpor...  2009-09-08   \n",
       "1  Note: 5-day ticket for all the public transpor...  2009-09-08   \n",
       "2  Note: 5-day ticket for all the public transpor...  2009-09-08   \n",
       "3  Note: 5-day ticket for all the public transpor...  2009-09-08   \n",
       "4  Note: 5-day ticket for all the public transpor...  2009-09-08   \n",
       "\n",
       "  host_response_rate host_has_profile_pic host_identity_verified  \\\n",
       "0               100%                    t                      t   \n",
       "1               100%                    t                      t   \n",
       "2               100%                    t                      t   \n",
       "3               100%                    t                      t   \n",
       "4               100%                    t                      t   \n",
       "\n",
       "  neighbourhood  ...                                          amenities  \\\n",
       "0    Ambelokipi  ...  {TV,\"Cable TV\",Internet,Wifi,\"Air conditioning...   \n",
       "1    Ambelokipi  ...  {TV,\"Cable TV\",Internet,Wifi,\"Air conditioning...   \n",
       "2    Ambelokipi  ...  {TV,\"Cable TV\",Internet,Wifi,\"Air conditioning...   \n",
       "3    Ambelokipi  ...  {TV,\"Cable TV\",Internet,Wifi,\"Air conditioning...   \n",
       "4    Ambelokipi  ...  {TV,\"Cable TV\",Internet,Wifi,\"Air conditioning...   \n",
       "\n",
       "    price  minimum_nights  availability_365 number_of_reviews first_review  \\\n",
       "0  $71.00               1               294                17   2011-05-20   \n",
       "1  $82.00               1                 0                31   2012-10-21   \n",
       "2  $47.00               1               282                27   2012-09-06   \n",
       "3  $37.00               1               286                42   2012-09-24   \n",
       "4  $47.00               2               308                16   2010-07-08   \n",
       "\n",
       "   last_review  review_scores_rating  instant_bookable  \\\n",
       "0   2019-01-12                  96.0                 t   \n",
       "1   2017-11-23                  92.0                 t   \n",
       "2   2019-02-01                  97.0                 t   \n",
       "3   2019-02-02                  97.0                 t   \n",
       "4   2019-01-11                  95.0                 t   \n",
       "\n",
       "           cancellation_policy  \n",
       "0  strict_14_with_grace_period  \n",
       "1  strict_14_with_grace_period  \n",
       "2  strict_14_with_grace_period  \n",
       "3  strict_14_with_grace_period  \n",
       "4  strict_14_with_grace_period  \n",
       "\n",
       "[5 rows x 31 columns]"
      ]
     },
     "execution_count": 2,
     "metadata": {},
     "output_type": "execute_result"
    }
   ],
   "source": [
    "DATASET = \"./data/train.csv\"\n",
    "df = pd.read_csv(DATASET)\n",
    "df.head()"
   ]
  },
  {
   "cell_type": "markdown",
   "metadata": {},
   "source": [
    "For the time being, null values won't be discared. That's why in case we deleted all the null objects, we would exclude a sizeable portion of the data set, and maybe without any meaningful reason. So, we are going to tackle each question step by step and only in case of need we will discard null objects."
   ]
  },
  {
   "cell_type": "markdown",
   "metadata": {},
   "source": [
    "## Question 1.1"
   ]
  },
  {
   "cell_type": "markdown",
   "metadata": {},
   "source": [
    "What is the most common type of room_type for our data?"
   ]
  },
  {
   "cell_type": "code",
   "execution_count": 3,
   "metadata": {
    "scrolled": false
   },
   "outputs": [
    {
     "data": {
      "image/png": "[encoded data removed]",
      "text/plain": [
       "<Figure size 576x576 with 1 Axes>"
      ]
     },
     "metadata": {},
     "output_type": "display_data"
    }
   ],
   "source": [
    "df['room_type'].value_counts().plot(kind = 'pie', colors=['red', 'green', 'blue'], figsize = (8, 8))\n",
    "plt.title('Pie Chart for Room Type Distribution', fontsize = 20)\n",
    "plt.xlabel('Room Type')\n",
    "plt.ylabel('Number of entries')\n",
    "plt.show()"
   ]
  },
  {
   "cell_type": "markdown",
   "metadata": {},
   "source": [
    "It is crystal clear that the most common type of rooms is 'Entire home/apartment'"
   ]
  },
  {
   "cell_type": "code",
   "execution_count": 4,
   "metadata": {},
   "outputs": [
    {
     "name": "stdout",
     "output_type": "stream",
     "text": [
      "Number of entries for \"Entire home/apartment\": 24765\n"
     ]
    }
   ],
   "source": [
    "print('Number of entries for \"Entire home/apartment\": {}'.format(max(df['room_type'].value_counts())))"
   ]
  },
  {
   "cell_type": "markdown",
   "metadata": {},
   "source": [
    "## Question 1.2"
   ]
  },
  {
   "cell_type": "markdown",
   "metadata": {},
   "source": [
    "Plot graphs showing the fluctuation of prices for the 3 month period."
   ]
  },
  {
   "cell_type": "code",
   "execution_count": 5,
   "metadata": {},
   "outputs": [],
   "source": [
    "# In order to plot numerical data we have to clean 'price' column by remove '$' symbol in each row\n",
    "def remove_dollar(row):\n",
    "    if row[0] == '$':\n",
    "        return row[1:]\n",
    "    return row\n",
    "\n",
    "df['price'] = df['price'].apply(lambda row: float(remove_dollar(row).replace(',','')))"
   ]
  },
  {
   "cell_type": "code",
   "execution_count": 6,
   "metadata": {},
   "outputs": [],
   "source": [
    "# Calculate mean price for each month\n",
    "mean_prices = []\n",
    "months = ['February', 'March', 'April']\n",
    "for month in months:\n",
    "    mean_prices.append(np.mean(df.loc[df['month'] == month]['price']))"
   ]
  },
  {
   "cell_type": "code",
   "execution_count": 7,
   "metadata": {},
   "outputs": [
    {
     "data": {
      "image/png": "[encoded data removed]",
      "text/plain": [
       "<Figure size 432x288 with 1 Axes>"
      ]
     },
     "metadata": {
      "needs_background": "light"
     },
     "output_type": "display_data"
    }
   ],
   "source": [
    "# Plot price fluctuation over the 3 months\n",
    "plot = plt.plot(months, mean_prices)\n",
    "plt.xlabel('Month')\n",
    "plt.ylabel('Price $')\n",
    "plt.title('Mean Price Fluctuation over February, March and April')\n",
    "plt.show()"
   ]
  },
  {
   "cell_type": "code",
   "execution_count": 8,
   "metadata": {},
   "outputs": [
    {
     "name": "stdout",
     "output_type": "stream",
     "text": [
      "Mean price in month February: $65.50\n",
      "Mean price in month March: $64.89\n",
      "Mean price in month April: $64.36\n"
     ]
    }
   ],
   "source": [
    "for i, month in enumerate(months):\n",
    "    print(\"Mean price in month {}: ${:.2f}\".format(month, mean_prices[i]))"
   ]
  },
  {
   "cell_type": "markdown",
   "metadata": {},
   "source": [
    "## Question 1.3"
   ]
  },
  {
   "cell_type": "markdown",
   "metadata": {},
   "source": [
    " What are the top 5 neighborhoods with the most reviews?"
   ]
  },
  {
   "cell_type": "code",
   "execution_count": 9,
   "metadata": {
    "scrolled": false
   },
   "outputs": [
    {
     "data": {
      "text/plain": [
       "Text(0.5, 1.0, 'Distribution of reviews in the top neighbourhoods')"
      ]
     },
     "execution_count": 9,
     "metadata": {},
     "output_type": "execute_result"
    },
    {
     "data": {
      "image/png": "[encoded data removed]",
      "text/plain": [
       "<Figure size 576x432 with 1 Axes>"
      ]
     },
     "metadata": {
      "needs_background": "light"
     },
     "output_type": "display_data"
    }
   ],
   "source": [
    "neighs = df.groupby('neighbourhood')\n",
    "reviews = neighs['number_of_reviews'].sum().sort_values().tail(5)\n",
    "\n",
    "reviews.plot(kind = 'bar', color=['red', 'green', 'blue', 'yellow', 'purple'], figsize = (8, 6))\n",
    "plt.xlabel('Neighbourhood')\n",
    "plt.ylabel('Reviews')\n",
    "plt.title('Distribution of reviews in the top neighbourhoods')"
   ]
  },
  {
   "cell_type": "code",
   "execution_count": 10,
   "metadata": {},
   "outputs": [
    {
     "name": "stdout",
     "output_type": "stream",
     "text": [
      "Top 5 neighbourhoods are: \n",
      "\n",
      "Metaxourgeio with 44792 reviews\n",
      "Psyri with 54353 reviews\n",
      "Neos Kosmos with 83348 reviews\n",
      "Koukaki with 90357 reviews\n",
      "Plaka with 132361 reviews\n"
     ]
    }
   ],
   "source": [
    "# Get the previously found neighbourhoods as a list\n",
    "list_of_neighs = reviews.keys().tolist()\n",
    "n_reviews = reviews.tolist()\n",
    "# And print its members\n",
    "print(\"Top 5 neighbourhoods are: \\n\")\n",
    "for i,n in enumerate(list_of_neighs):\n",
    "    print('{} with {} reviews'.format(n, n_reviews[i]))"
   ]
  },
  {
   "cell_type": "markdown",
   "metadata": {},
   "source": [
    "## Question 1.4"
   ]
  },
  {
   "cell_type": "markdown",
   "metadata": {},
   "source": [
    "What is the neighborhood with most real estate listings?\n"
   ]
  },
  {
   "cell_type": "code",
   "execution_count": 11,
   "metadata": {},
   "outputs": [
    {
     "name": "stdout",
     "output_type": "stream",
     "text": [
      "The neighbourhood with the most listings is Plaka with 3143 properties\n"
     ]
    }
   ],
   "source": [
    "res = df['neighbourhood'].value_counts()\n",
    "# We want the most common neighbourhood, thus the head of the list\n",
    "neig = res.keys().tolist()[0]\n",
    "# And also the properties it has\n",
    "n_props = res.tolist()[0]\n",
    "print(\"The neighbourhood with the most listings is {} with {} properties\".format(neig, n_props))"
   ]
  },
  {
   "cell_type": "markdown",
   "metadata": {},
   "source": [
    "## Question 1.5\n"
   ]
  },
  {
   "cell_type": "markdown",
   "metadata": {},
   "source": [
    "How many entries are per neighborhood and per month?\n"
   ]
  },
  {
   "cell_type": "markdown",
   "metadata": {},
   "source": [
    "### Entries per month"
   ]
  },
  {
   "cell_type": "code",
   "execution_count": 12,
   "metadata": {},
   "outputs": [
    {
     "data": {
      "image/png": "[encoded data removed]",
      "text/plain": [
       "<Figure size 576x432 with 1 Axes>"
      ]
     },
     "metadata": {
      "needs_background": "light"
     },
     "output_type": "display_data"
    }
   ],
   "source": [
    "df['month'].value_counts().plot(kind = 'bar', color=['red', 'green', 'blue'], figsize = (8, 6))\n",
    "plt.title('Entries Distribution per Month', fontsize = 20)\n",
    "plt.xlabel('Month')\n",
    "plt.ylabel('Number of entries')\n",
    "plt.show()"
   ]
  },
  {
   "cell_type": "code",
   "execution_count": 13,
   "metadata": {},
   "outputs": [
    {
     "name": "stdout",
     "output_type": "stream",
     "text": [
      "Entries per month:\n",
      "\n",
      "April: 9661\n",
      "March: 9361\n",
      "February: 9100\n"
     ]
    }
   ],
   "source": [
    "months = df['month'].value_counts().keys().tolist()\n",
    "values = df['month'].value_counts().tolist()\n",
    "\n",
    "print('Entries per month:\\n')\n",
    "for i,month in enumerate(months):\n",
    "    print('{}: {}'.format(month, values[i]))"
   ]
  },
  {
   "cell_type": "markdown",
   "metadata": {},
   "source": [
    "#### Entries per neighbourhood"
   ]
  },
  {
   "cell_type": "code",
   "execution_count": 14,
   "metadata": {},
   "outputs": [
    {
     "data": {
      "image/png": "[encoded data removed]",
      "text/plain": [
       "<Figure size 576x432 with 1 Axes>"
      ]
     },
     "metadata": {
      "needs_background": "light"
     },
     "output_type": "display_data"
    }
   ],
   "source": [
    "df['neighbourhood'].value_counts().plot(kind = 'bar', color = ['red','black'], figsize = (8, 6))\n",
    "plt.title('Entries per neighbourhood', fontsize = 20)\n",
    "plt.xlabel('Neighbourhood')\n",
    "plt.ylabel('Number of entries')\n",
    "plt.show()"
   ]
  },
  {
   "cell_type": "code",
   "execution_count": 15,
   "metadata": {},
   "outputs": [
    {
     "name": "stdout",
     "output_type": "stream",
     "text": [
      "Entries per neighbourhood:\n",
      "\n",
      "Plaka: 3143\n",
      "Neos Kosmos: 2377\n",
      "Koukaki: 2318\n",
      "Kolonaki: 1722\n",
      "Pangrati: 1702\n",
      "Larissis: 1577\n",
      "Metaxourgeio: 1527\n",
      "Ambelokipi: 1482\n",
      "Psyri: 1472\n",
      "Exarcheia: 1330\n",
      "Pedion Areos: 845\n",
      "Mets: 838\n",
      "Kypseli: 791\n",
      "Attiki: 758\n",
      "Kerameikos: 756\n",
      "Neapoli: 706\n",
      "Petralona: 700\n",
      "Patisia: 670\n",
      "Agios Nikolaos: 611\n",
      "Thiseio: 520\n",
      "Ilisia: 502\n",
      "Kolonos: 370\n",
      "Gazi: 282\n",
      "Agios Loukas: 209\n",
      "Votanikos: 163\n",
      "Akadimia Platonos: 114\n",
      "Sepolia: 97\n",
      "Goudi: 87\n",
      "Monastiraki: 81\n",
      "Rizoupoli: 59\n",
      "Profitis Daniil: 40\n",
      "Rouf: 12\n"
     ]
    }
   ],
   "source": [
    "neighbourhoods = df['neighbourhood'].value_counts().keys().tolist()\n",
    "values = df['neighbourhood'].value_counts().tolist()\n",
    "\n",
    "print('Entries per neighbourhood:\\n')\n",
    "for i, neighbourhood in enumerate(neighbourhoods):\n",
    "    print('{}: {}'.format(neighbourhood, values[i]))"
   ]
  },
  {
   "cell_type": "markdown",
   "metadata": {},
   "source": [
    "## Question 1.6"
   ]
  },
  {
   "cell_type": "markdown",
   "metadata": {},
   "source": [
    "Plot the histogram of the neighborhood_group variable.\n"
   ]
  },
  {
   "cell_type": "markdown",
   "metadata": {},
   "source": [
    "## Question 1.7"
   ]
  },
  {
   "cell_type": "markdown",
   "metadata": {},
   "source": [
    "What is the most common type of room (room_type) in every neighbourhood?\n"
   ]
  },
  {
   "cell_type": "code",
   "execution_count": 23,
   "metadata": {},
   "outputs": [
    {
     "name": "stdout",
     "output_type": "stream",
     "text": [
      "Most common type of room in every neighbourhood: \n",
      "\n",
      "Plaka: Entire home/apt - entries: 2869\n",
      "Neos Kosmos: Entire home/apt - entries: 2177\n",
      "Koukaki: Entire home/apt - entries: 2104\n",
      "Kolonaki: Entire home/apt - entries: 1615\n",
      "Pangrati: Entire home/apt - entries: 1557\n",
      "Larissis: Entire home/apt - entries: 1276\n",
      "Metaxourgeio: Entire home/apt - entries: 1157\n",
      "Ambelokipi: Entire home/apt - entries: 1386\n",
      "Psyri: Entire home/apt - entries: 1182\n",
      "Exarcheia: Entire home/apt - entries: 1171\n",
      "Pedion Areos: Entire home/apt - entries: 679\n",
      "Mets: Entire home/apt - entries: 782\n",
      "Kypseli: Entire home/apt - entries: 645\n",
      "Attiki: Entire home/apt - entries: 647\n",
      "Kerameikos: Entire home/apt - entries: 682\n",
      "Neapoli: Entire home/apt - entries: 608\n",
      "Petralona: Entire home/apt - entries: 637\n",
      "Patisia: Entire home/apt - entries: 620\n",
      "Agios Nikolaos: Entire home/apt - entries: 524\n",
      "Thiseio: Entire home/apt - entries: 478\n",
      "Ilisia: Entire home/apt - entries: 473\n",
      "Kolonos: Entire home/apt - entries: 321\n",
      "Gazi: Entire home/apt - entries: 240\n",
      "Agios Loukas: Entire home/apt - entries: 177\n",
      "Votanikos: Entire home/apt - entries: 146\n",
      "Akadimia Platonos: Entire home/apt - entries: 92\n",
      "Sepolia: Entire home/apt - entries: 89\n",
      "Goudi: Entire home/apt - entries: 63\n",
      "Monastiraki: Entire home/apt - entries: 58\n",
      "Rizoupoli: Entire home/apt - entries: 40\n",
      "Profitis Daniil: Entire home/apt - entries: 38\n",
      "Rouf: Entire home/apt - entries: 12\n"
     ]
    }
   ],
   "source": [
    "print(\"Most common type of room in every neighbourhood: \\n\")\n",
    "for neighbourhood in neighbourhoods:\n",
    "    print(\"{}: {} - entries: {}\".format(neighbourhood, \n",
    "                                    np.argmax(df.loc[df['neighbourhood'] == neighbourhood]['room_type'].value_counts()),\n",
    "                                    np.max(df.loc[df['neighbourhood'] == neighbourhood]['room_type'].value_counts())))\n"
   ]
  },
  {
   "cell_type": "markdown",
   "metadata": {},
   "source": [
    "## Question 1.8"
   ]
  },
  {
   "cell_type": "markdown",
   "metadata": {},
   "source": [
    "What is the most expensive room type?"
   ]
  },
  {
   "cell_type": "code",
   "execution_count": 17,
   "metadata": {},
   "outputs": [
    {
     "data": {
      "image/png": "[encoded data removed]",
      "text/plain": [
       "<Figure size 576x432 with 1 Axes>"
      ]
     },
     "metadata": {
      "needs_background": "light"
     },
     "output_type": "display_data"
    }
   ],
   "source": [
    "# Group the data by the room type\n",
    "room_types = df.groupby('room_type')\n",
    "# FInd out the mean value of the prices in each room type\n",
    "prices = room_types['price'].mean().sort_values(ascending = False)\n",
    "prices.plot(kind = 'bar', color=['violet', 'lime', 'gray'] ,figsize = (8, 6))\n",
    "plt.title('Cost per room type', fontsize = 20)\n",
    "plt.xlabel('Room Type')\n",
    "plt.ylabel('Cost in $')\n",
    "plt.show()"
   ]
  },
  {
   "cell_type": "code",
   "execution_count": 18,
   "metadata": {},
   "outputs": [
    {
     "name": "stdout",
     "output_type": "stream",
     "text": [
      "The most expensive room type is \"Private room\" with 80.3 mean price\n"
     ]
    }
   ],
   "source": [
    "types = prices.keys().tolist()\n",
    "values = prices.tolist()\n",
    "\n",
    "print('The most expensive room type is \"{}\" with {:.1f} mean price'.format(types[0], values[0]))"
   ]
  },
  {
   "cell_type": "markdown",
   "metadata": {},
   "source": [
    "## Extra Questions"
   ]
  },
  {
   "cell_type": "markdown",
   "metadata": {},
   "source": [
    "Which are the neighbourhoods with the better review score?"
   ]
  },
  {
   "cell_type": "code",
   "execution_count": 19,
   "metadata": {},
   "outputs": [
    {
     "data": {
      "image/png": "[encoded data removed]",
      "text/plain": [
       "<Figure size 576x432 with 1 Axes>"
      ]
     },
     "metadata": {
      "needs_background": "light"
     },
     "output_type": "display_data"
    }
   ],
   "source": [
    "# Note: the neighs is the df grouped by the neighbourhood field, as stated above\n",
    "scores = neighs['review_scores_rating'].mean().sort_values(ascending = False).head(5)\n",
    "scores.plot(kind = 'barh', color=['powderblue', 'olive', 'indigo', 'magenta', 'gold'] ,figsize = (8, 6))\n",
    "plt.title('Review mean score per neighbourhood', fontsize = 20)\n",
    "# We know that the reviews are high, so no need to use all the range (0-100)\n",
    "plt.xlim((95,100))\n",
    "plt.ylabel('Neighbourhood')\n",
    "plt.xlabel('Review score /100')\n",
    "plt.show()"
   ]
  },
  {
   "cell_type": "code",
   "execution_count": 20,
   "metadata": {},
   "outputs": [
    {
     "name": "stdout",
     "output_type": "stream",
     "text": [
      "Top 5 neighbourhoods are \n",
      "\n",
      "Sepolia with 98.17 review score\n",
      "Akadimia Platonos with 97.19 review score\n",
      "Kolonos with 96.96 review score\n",
      "Agios Loukas with 96.58 review score\n",
      "Thiseio with 96.48 review score\n"
     ]
    }
   ],
   "source": [
    "list_of_neighs = scores.keys().tolist()\n",
    "n_scores = scores.tolist()\n",
    "# And print its members\n",
    "print(\"Top 5 neighbourhoods are \\n\")\n",
    "for i,n in enumerate(list_of_neighs):\n",
    "    print('{} with {:.2f} review score'.format(n, n_scores[i]))"
   ]
  }
 ],
 "metadata": {
  "kernelspec": {
   "display_name": "Python 3",
   "language": "python",
   "name": "python3"
  },
  "language_info": {
   "codemirror_mode": {
    "name": "ipython",
    "version": 3
   },
   "file_extension": ".py",
   "mimetype": "text/x-python",
   "name": "python",
   "nbconvert_exporter": "python",
   "pygments_lexer": "ipython3",
   "version": "3.7.3"
  }
 },
 "nbformat": 4,
 "nbformat_minor": 2
}
