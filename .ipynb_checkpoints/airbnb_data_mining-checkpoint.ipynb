{
 "cells": [
  {
   "cell_type": "markdown",
   "metadata": {},
   "source": [
    "# Airbnb Data Mining Notebook"
   ]
  },
  {
   "cell_type": "markdown",
   "metadata": {},
   "source": [
    "In this notebook we are going to deal with data from a well-known residential rental application, Airbnb. Specifically, based on the data for the Athens area for 3 months of 2019 (February, March and April), we are going to answer the following question: \n",
    "* What is the most common type of room_type for our data?\n",
    "* Plot graphs showing the fluctuation of prices for the 3 month period.\n",
    "* What are the top 5 neighborhoods with the most reviews?\n",
    "* What is the neighborhood with most real estate listings?\n",
    "* How many entries are per neighborhood and per month?\n",
    "* Plot the histogram of the neighborhood_group variable.\n",
    "* What is the most common type of room (room_type)?\n",
    "* What is the most common room type (room_type) in each neighborhood (neighborhood_group)?\n",
    "* What is the most expensive room type?"
   ]
  },
  {
   "cell_type": "code",
   "execution_count": null,
   "metadata": {},
   "outputs": [],
   "source": []
  }
 ],
 "metadata": {
  "kernelspec": {
   "display_name": "Python 3",
   "language": "python",
   "name": "python3"
  },
  "language_info": {
   "codemirror_mode": {
    "name": "ipython",
    "version": 3
   },
   "file_extension": ".py",
   "mimetype": "text/x-python",
   "name": "python",
   "nbconvert_exporter": "python",
   "pygments_lexer": "ipython3",
   "version": "3.7.3"
  }
 },
 "nbformat": 4,
 "nbformat_minor": 2
}
