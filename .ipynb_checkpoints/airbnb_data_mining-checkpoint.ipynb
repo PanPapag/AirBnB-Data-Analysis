{
 "cells": [
  {
   "cell_type": "markdown",
   "metadata": {},
   "source": [
    "# Airbnb Data Mining Notebook"
   ]
  },
  {
   "cell_type": "markdown",
   "metadata": {},
   "source": [
    "In this notebook we are going to deal with data from a well-known residential rental application, Airbnb. Specifically, based on the data for the Athens area for 3 months of 2019 (February, March and April), we are going to answer the following question: \n",
    "* What is the most common type of room_type for our data?\n",
    "* Plot graphs showing the fluctuation of prices for the 3 month period.\n",
    "* What are the top 5 neighborhoods with the most reviews?\n",
    "* What is the neighborhood with most real estate listings?\n",
    "* How many entries are per neighborhood and per month?\n",
    "* Plot the histogram of the neighborhood_group variable.\n",
    "* What is the most common type of room (room_type)?\n",
    "* What is the most common room type (room_type) in each neighborhood (neighborhood_group)?\n",
    "* What is the most expensive room type?"
   ]
  },
  {
   "cell_type": "markdown",
   "metadata": {},
   "source": [
    "## Import Libraries"
   ]
  },
  {
   "cell_type": "code",
   "execution_count": 1,
   "metadata": {},
   "outputs": [
    {
     "name": "stderr",
     "output_type": "stream",
     "text": [
      "[nltk_data] Downloading package stopwords to\n",
      "[nltk_data]     /Users/pantelis/nltk_data...\n",
      "[nltk_data]   Package stopwords is already up-to-date!\n"
     ]
    }
   ],
   "source": [
    "# Ignoring unnecessory warnings\n",
    "import warnings\n",
    "warnings.filterwarnings(\"ignore\")  \n",
    "# Specialized container datatypes\n",
    "import collections\n",
    "# For data vizualization \n",
    "import matplotlib as mpl\n",
    "import matplotlib.pyplot as plt\n",
    "%matplotlib inline\n",
    "import seaborn as sns\n",
    "# For large and multi-dimensional arrays\n",
    "import numpy as np\n",
    "# For data manipulation and analysis\n",
    "import pandas as pd\n",
    "# Natural language processing library\n",
    "import nltk\n",
    "nltk.download('stopwords')\n",
    "from nltk.corpus import stopwords\n",
    "from nltk.stem import WordNetLemmatizer \n",
    "from nltk.stem import SnowballStemmer\n",
    "from nltk.tokenize import word_tokenize\n",
    "from nltk.util import ngrams\n",
    "# For basic cleaning and data preprocessing \n",
    "import re\n",
    "import string \n",
    "# Communicating with operating and file system\n",
    "import os\n",
    "# Machine learning libary\n",
    "from sklearn.feature_extraction.text import CountVectorizer\n",
    "from sklearn.feature_extraction.text import TfidfVectorizer\n",
    "from sklearn.metrics import accuracy_score\n",
    "from sklearn.metrics import classification_report,confusion_matrix\n",
    "from sklearn.metrics import precision_recall_fscore_support as score\n",
    "from sklearn.model_selection import GridSearchCV\n",
    "from sklearn.model_selection import train_test_split\n",
    "from sklearn.naive_bayes import MultinomialNB\n",
    "# For wordcloud generating \n",
    "from wordcloud import WordCloud"
   ]
  },
  {
   "cell_type": "markdown",
   "metadata": {},
   "source": [
    "## Load Dataset"
   ]
  },
  {
   "cell_type": "markdown",
   "metadata": {},
   "source": [
    "Read the data using pandas' read_csv method and let's look at the dataset info to see if everything is alright."
   ]
  },
  {
   "cell_type": "code",
   "execution_count": 2,
   "metadata": {},
   "outputs": [
    {
     "name": "stdout",
     "output_type": "stream",
     "text": [
      "<class 'pandas.core.frame.DataFrame'>\n",
      "RangeIndex: 28122 entries, 0 to 28121\n",
      "Data columns (total 31 columns):\n",
      "id                        28122 non-null int64\n",
      "month                     28122 non-null object\n",
      "name                      28092 non-null object\n",
      "description               27833 non-null object\n",
      "transit                   19212 non-null object\n",
      "host_since                28120 non-null object\n",
      "host_response_rate        23067 non-null object\n",
      "host_has_profile_pic      28120 non-null object\n",
      "host_identity_verified    28120 non-null object\n",
      "neighbourhood             27861 non-null object\n",
      "city                      28113 non-null object\n",
      "zipcode                   27204 non-null object\n",
      "latitude                  28122 non-null float64\n",
      "longitude                 28122 non-null float64\n",
      "property_type             28122 non-null object\n",
      "room_type                 28122 non-null object\n",
      "accommodates              28122 non-null int64\n",
      "bathrooms                 28122 non-null float64\n",
      "bedrooms                  28110 non-null float64\n",
      "beds                      28091 non-null float64\n",
      "bed_type                  28122 non-null object\n",
      "amenities                 28122 non-null object\n",
      "price                     28122 non-null object\n",
      "minimum_nights            28122 non-null int64\n",
      "availability_365          28122 non-null int64\n",
      "number_of_reviews         28122 non-null int64\n",
      "first_review              21400 non-null object\n",
      "last_review               21400 non-null object\n",
      "review_scores_rating      21205 non-null float64\n",
      "instant_bookable          28122 non-null object\n",
      "cancellation_policy       28122 non-null object\n",
      "dtypes: float64(6), int64(5), object(20)\n",
      "memory usage: 6.7+ MB\n"
     ]
    }
   ],
   "source": [
    "DATASET = \"./data/train.csv\"\n",
    "df = pd.read_csv(DATASET)\n",
    "df.info()"
   ]
  },
  {
   "cell_type": "markdown",
   "metadata": {},
   "source": [
    "For the time being, null values won't be discared. That's why in case we deleted all the null objects, we would exclude a sizeable portion of the data set, and maybe without any meaningful reason. So, we are going to tackle each question step by step and only in case of need we will discard null objects."
   ]
  },
  {
   "cell_type": "markdown",
   "metadata": {},
   "source": [
    "## Question 1.1"
   ]
  },
  {
   "cell_type": "markdown",
   "metadata": {},
   "source": [
    "What is the most common type of room_type for our data?"
   ]
  },
  {
   "cell_type": "code",
   "execution_count": 3,
   "metadata": {
    "scrolled": false
   },
   "outputs": [
    {
     "data": {
      "image/png": "[encoded data removed]",
      "text/plain": [
       "<Figure size 576x432 with 1 Axes>"
      ]
     },
     "metadata": {
      "needs_background": "light"
     },
     "output_type": "display_data"
    }
   ],
   "source": [
    "df['room_type'].value_counts().plot(kind = 'bar', color=['red', 'green', 'blue'], figsize = (8, 6))\n",
    "plt.title('Bar Chart for Room Type Distribution', fontsize = 20)\n",
    "plt.xlabel('Room Type')\n",
    "plt.ylabel('Number of entries')\n",
    "plt.show()"
   ]
  },
  {
   "cell_type": "markdown",
   "metadata": {},
   "source": [
    "It is crystal clear that the most common type of rooms is 'Entire home/apartment'"
   ]
  },
  {
   "cell_type": "code",
   "execution_count": 4,
   "metadata": {},
   "outputs": [
    {
     "name": "stdout",
     "output_type": "stream",
     "text": [
      "Number of entries for \"Entire home/apartment\": 24765\n"
     ]
    }
   ],
   "source": [
    "print('Number of entries for \"Entire home/apartment\": {}'.format(max(df['room_type'].value_counts())))"
   ]
  },
  {
   "cell_type": "markdown",
   "metadata": {},
   "source": [
    "## Question 1.2"
   ]
  },
  {
   "cell_type": "markdown",
   "metadata": {},
   "source": [
    "Plot graphs showing the fluctuation of prices for the 3 month period."
   ]
  },
  {
   "cell_type": "code",
   "execution_count": 5,
   "metadata": {},
   "outputs": [],
   "source": [
    "# In order to plot numerical data we have to clean 'price' column by remove '$' symbol in each row\n",
    "def remove_dollar(row):\n",
    "    if row[0] == '$':\n",
    "        return row[1:]\n",
    "    return row\n",
    "\n",
    "df['price'] = df['price'].apply(lambda row: float(remove_dollar(row).replace(',','')))"
   ]
  },
  {
   "cell_type": "code",
   "execution_count": 6,
   "metadata": {},
   "outputs": [],
   "source": [
    "# Calculate mean price for each month\n",
    "mean_prices = []\n",
    "months = ['February', 'March', 'April']\n",
    "for month in months:\n",
    "    mean_prices.append(np.mean(df.loc[df['month'] == month]['price']))"
   ]
  },
  {
   "cell_type": "code",
   "execution_count": 7,
   "metadata": {},
   "outputs": [
    {
     "data": {
      "image/png": "[encoded data removed]",
      "text/plain": [
       "<Figure size 432x288 with 1 Axes>"
      ]
     },
     "metadata": {
      "needs_background": "light"
     },
     "output_type": "display_data"
    }
   ],
   "source": [
    "# Plot price fluctuation over the 3 months\n",
    "plot = plt.plot(months, mean_prices)\n",
    "plt.xlabel('Month')\n",
    "plt.ylabel('Price $')\n",
    "plt.title('Mean Price Fluctuation over February, March and April')\n",
    "plt.show()"
   ]
  },
  {
   "cell_type": "code",
   "execution_count": 8,
   "metadata": {},
   "outputs": [
    {
     "name": "stdout",
     "output_type": "stream",
     "text": [
      "Mean price in month February: $65.50\n",
      "Mean price in month March: $64.89\n",
      "Mean price in month April: $64.36\n"
     ]
    }
   ],
   "source": [
    "for i, month in enumerate(months):\n",
    "    print(\"Mean price in month {}: ${:.2f}\".format(month, mean_prices[i]))"
   ]
  }
 ],
 "metadata": {
  "kernelspec": {
   "display_name": "Python 3",
   "language": "python",
   "name": "python3"
  },
  "language_info": {
   "codemirror_mode": {
    "name": "ipython",
    "version": 3
   },
   "file_extension": ".py",
   "mimetype": "text/x-python",
   "name": "python",
   "nbconvert_exporter": "python",
   "pygments_lexer": "ipython3",
   "version": "3.7.3"
  }
 },
 "nbformat": 4,
 "nbformat_minor": 2
}
