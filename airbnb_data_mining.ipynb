{
 "cells": [
  {
   "cell_type": "markdown",
   "metadata": {},
   "source": [
    "# Airbnb Data Mining Notebook"
   ]
  },
  {
   "cell_type": "markdown",
   "metadata": {},
   "source": [
    "In this notebook we are going to deal with data from a well-known residential rental application, Airbnb. Specifically, based on the data for the Athens area for 3 months of 2019 (February, March and April), we are going to answer the following question: \n",
    "* What is the most common type of room_type for our data?\n",
    "* Plot graphs showing the fluctuation of prices for the 3 month period.\n",
    "* What are the top 5 neighborhoods with the most reviews?\n",
    "* What is the neighborhood with most real estate listings?\n",
    "* How many entries are per neighborhood and per month?\n",
    "* Plot the histogram of the neighborhood_group variable.\n",
    "* What is the most common type of room (room_type)?\n",
    "* What is the most common room type (room_type) in each neighborhood (neighborhood_group)?\n",
    "* What is the most expensive room type?"
   ]
  },
  {
   "cell_type": "markdown",
   "metadata": {},
   "source": [
    "## Import Libraries"
   ]
  },
  {
   "cell_type": "code",
   "execution_count": 1,
   "metadata": {},
   "outputs": [
    {
     "name": "stderr",
     "output_type": "stream",
     "text": [
      "[nltk_data] Downloading package stopwords to\n",
      "[nltk_data]     /Users/pantelis/nltk_data...\n",
      "[nltk_data]   Package stopwords is already up-to-date!\n"
     ]
    }
   ],
   "source": [
    "# Ignoring unnecessory warnings\n",
    "import warnings\n",
    "warnings.filterwarnings(\"ignore\")  \n",
    "# Specialized container datatypes\n",
    "import collections\n",
    "# For data vizualization \n",
    "import matplotlib as mpl\n",
    "import matplotlib.pyplot as plt\n",
    "%matplotlib inline\n",
    "import seaborn as sns\n",
    "# For large and multi-dimensional arrays\n",
    "import numpy as np\n",
    "# For data manipulation and analysis\n",
    "import pandas as pd\n",
    "# Natural language processing library\n",
    "import nltk\n",
    "nltk.download('stopwords')\n",
    "from nltk.corpus import stopwords\n",
    "from nltk.stem import WordNetLemmatizer \n",
    "from nltk.stem import SnowballStemmer\n",
    "from nltk.tokenize import word_tokenize\n",
    "from nltk.util import ngrams\n",
    "# For basic cleaning and data preprocessing \n",
    "import re\n",
    "import string \n",
    "# Communicating with operating and file system\n",
    "import os\n",
    "# Machine learning libary\n",
    "from sklearn.feature_extraction.text import CountVectorizer\n",
    "from sklearn.feature_extraction.text import TfidfVectorizer\n",
    "from sklearn.metrics import accuracy_score\n",
    "from sklearn.metrics import classification_report,confusion_matrix\n",
    "from sklearn.metrics import precision_recall_fscore_support as score\n",
    "from sklearn.model_selection import GridSearchCV\n",
    "from sklearn.model_selection import train_test_split\n",
    "from sklearn.naive_bayes import MultinomialNB\n",
    "# For wordcloud generating \n",
    "from wordcloud import WordCloud"
   ]
  },
  {
   "cell_type": "code",
   "execution_count": 5,
   "metadata": {},
   "outputs": [
    {
     "name": "stdout",
     "output_type": "stream",
     "text": [
      "./data/april/reviews.csv\n",
      "./data/april/listings0.csv\n",
      "./data/april/neighbourhoods.csv\n",
      "./data/april/listings.csv\n",
      "./data/april/calendar.csv\n",
      "./data/april/reviews0.csv\n",
      "./data/febrouary/reviews.csv\n",
      "./data/febrouary/listings0.csv\n",
      "./data/febrouary/neighbourhoods.csv\n",
      "./data/febrouary/listings.csv\n",
      "./data/febrouary/calendar.csv\n",
      "./data/febrouary/reviews0.csv\n",
      "./data/march/reviews.csv\n",
      "./data/march/listings0.csv\n",
      "./data/march/neighbourhoods.csv\n",
      "./data/march/listings.csv\n",
      "./data/march/calendar.csv\n",
      "./data/march/reviews0.csv\n"
     ]
    }
   ],
   "source": [
    "\"\"\"\n",
    "Check whether or not train.csv has been created. \n",
    "If not os walk all over the files in data folder,\n",
    "and create the dataset based on .csv files.\n",
    "\"\"\"\n",
    "DATASET = \"./data/train.csv\"\n",
    "if os.path.exists(DATASET):\n",
    "    print(\"good\")\n",
    "else:\n",
    "    for root, _, files in os.walk(\"./data\", topdown=False):\n",
    "        for file in files:\n",
    "            if (file.endswith(\".csv\")):\n",
    "                print(os.path.join(root, file))"
   ]
  },
  {
   "cell_type": "code",
   "execution_count": null,
   "metadata": {},
   "outputs": [],
   "source": []
  }
 ],
 "metadata": {
  "kernelspec": {
   "display_name": "Python 3",
   "language": "python",
   "name": "python3"
  },
  "language_info": {
   "codemirror_mode": {
    "name": "ipython",
    "version": 3
   },
   "file_extension": ".py",
   "mimetype": "text/x-python",
   "name": "python",
   "nbconvert_exporter": "python",
   "pygments_lexer": "ipython3",
   "version": "3.7.3"
  }
 },
 "nbformat": 4,
 "nbformat_minor": 2
}
