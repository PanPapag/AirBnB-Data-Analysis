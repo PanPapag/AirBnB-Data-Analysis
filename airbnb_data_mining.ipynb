{
 "cells": [
  {
   "cell_type": "markdown",
   "metadata": {},
   "source": [
    "# Airbnb Data Mining Notebook"
   ]
  },
  {
   "cell_type": "markdown",
   "metadata": {},
   "source": [
    "In this notebook we are going to deal with data from a well-known residential rental application, Airbnb. Specifically, based on the data for the Athens area for 3 months of 2019 (February, March and April), we are going to answer the following question: \n",
    "- What is the most common type of room_type for our data?\n",
    "- Plot graphs showing the fluctuation of prices for the 3 month period.\n",
    "- What are the top 5 neighborhoods with the most reviews?\n",
    "- What is the neighborhood with most real estate listings?\n",
    "- How many entries are per neighborhood and per month?\n",
    "- Plot the histogram of the neighborhood_group variable.\n",
    "- What is the most common type of room (room_type)?\n",
    "- What is the most common room type (room_type) in each neighborhood (neighborhood_group)?\n",
    "- What is the most expensive room type?"
   ]
  },
  {
   "cell_type": "markdown",
   "metadata": {},
   "source": [
    "## Import Libraries"
   ]
  },
  {
   "cell_type": "code",
   "execution_count": 1,
   "metadata": {},
   "outputs": [
    {
     "name": "stderr",
     "output_type": "stream",
     "text": [
      "[nltk_data] Downloading package stopwords to\n",
      "[nltk_data]     /Users/pantelis/nltk_data...\n",
      "[nltk_data]   Package stopwords is already up-to-date!\n",
      "[nltk_data] Downloading package wordnet to\n",
      "[nltk_data]     /Users/pantelis/nltk_data...\n",
      "[nltk_data]   Package wordnet is already up-to-date!\n"
     ]
    }
   ],
   "source": [
    "# Ignoring unnecessory warnings\n",
    "import warnings\n",
    "warnings.filterwarnings(\"ignore\")  \n",
    "# Specialized container datatypes\n",
    "import collections\n",
    "# For Map vizualization\n",
    "import folium\n",
    "# For data vizualization \n",
    "import matplotlib as mpl\n",
    "import matplotlib.pyplot as plt\n",
    "%matplotlib inline\n",
    "import seaborn as sns\n",
    "# For large and multi-dimensional arrays\n",
    "import numpy as np\n",
    "# For data manipulation and analysis\n",
    "import pandas as pd\n",
    "# Natural language processing library\n",
    "import nltk\n",
    "nltk.download('stopwords')\n",
    "nltk.download('wordnet')\n",
    "from nltk.collocations import (\n",
    "    BigramAssocMeasures,\n",
    "    BigramCollocationFinder)\n",
    "from nltk.corpus import stopwords\n",
    "from nltk.stem import WordNetLemmatizer \n",
    "from nltk.stem import SnowballStemmer\n",
    "from nltk.tokenize import word_tokenize\n",
    "from nltk.util import ngrams\n",
    "# For random selection \n",
    "import random\n",
    "# For basic cleaning and data preprocessing \n",
    "import re\n",
    "import string \n",
    "# Communicating with operating and file system\n",
    "import os\n",
    "# Machine learning libary\n",
    "from sklearn.feature_extraction.text import CountVectorizer\n",
    "from sklearn.feature_extraction.text import TfidfVectorizer\n",
    "from sklearn.metrics.pairwise import cosine_similarity\n",
    "from sklearn.metrics import accuracy_score\n",
    "from sklearn.metrics import classification_report,confusion_matrix\n",
    "from sklearn.metrics import precision_recall_fscore_support as score\n",
    "from sklearn.model_selection import GridSearchCV\n",
    "from sklearn.model_selection import train_test_split\n",
    "from sklearn.neighbors import NearestNeighbors\n",
    "# For wordcloud generating \n",
    "from wordcloud import WordCloud"
   ]
  },
  {
   "cell_type": "markdown",
   "metadata": {},
   "source": [
    "## Load Dataset"
   ]
  },
  {
   "cell_type": "markdown",
   "metadata": {},
   "source": [
    "Read the data using pandas' read_csv method and let's look at the dataset info to see if everything is alright."
   ]
  },
  {
   "cell_type": "code",
   "execution_count": 2,
   "metadata": {},
   "outputs": [
    {
     "name": "stdout",
     "output_type": "stream",
     "text": [
      "<class 'pandas.core.frame.DataFrame'>\n",
      "RangeIndex: 28122 entries, 0 to 28121\n",
      "Data columns (total 31 columns):\n",
      "id                        28122 non-null int64\n",
      "month                     28122 non-null object\n",
      "name                      28092 non-null object\n",
      "description               27833 non-null object\n",
      "transit                   19212 non-null object\n",
      "host_since                28120 non-null object\n",
      "host_response_rate        23067 non-null object\n",
      "host_has_profile_pic      28120 non-null object\n",
      "host_identity_verified    28120 non-null object\n",
      "neighbourhood             27861 non-null object\n",
      "city                      28113 non-null object\n",
      "zipcode                   27204 non-null object\n",
      "latitude                  28122 non-null float64\n",
      "longitude                 28122 non-null float64\n",
      "property_type             28122 non-null object\n",
      "room_type                 28122 non-null object\n",
      "accommodates              28122 non-null int64\n",
      "bathrooms                 28122 non-null float64\n",
      "bedrooms                  28110 non-null float64\n",
      "beds                      28091 non-null float64\n",
      "bed_type                  28122 non-null object\n",
      "amenities                 28122 non-null object\n",
      "price                     28122 non-null object\n",
      "minimum_nights            28122 non-null int64\n",
      "availability_365          28122 non-null int64\n",
      "number_of_reviews         28122 non-null int64\n",
      "first_review              21400 non-null object\n",
      "last_review               21400 non-null object\n",
      "review_scores_rating      21205 non-null float64\n",
      "instant_bookable          28122 non-null object\n",
      "cancellation_policy       28122 non-null object\n",
      "dtypes: float64(6), int64(5), object(20)\n",
      "memory usage: 6.7+ MB\n"
     ]
    }
   ],
   "source": [
    "DATASET = \"./data/train.csv\"\n",
    "df = pd.read_csv(DATASET)\n",
    "df.info()"
   ]
  },
  {
   "cell_type": "code",
   "execution_count": 3,
   "metadata": {},
   "outputs": [
    {
     "data": {
      "text/html": [
       "<div>\n",
       "<style scoped>\n",
       "    .dataframe tbody tr th:only-of-type {\n",
       "        vertical-align: middle;\n",
       "    }\n",
       "\n",
       "    .dataframe tbody tr th {\n",
       "        vertical-align: top;\n",
       "    }\n",
       "\n",
       "    .dataframe thead th {\n",
       "        text-align: right;\n",
       "    }\n",
       "</style>\n",
       "<table border=\"1\" class=\"dataframe\">\n",
       "  <thead>\n",
       "    <tr style=\"text-align: right;\">\n",
       "      <th></th>\n",
       "      <th>id</th>\n",
       "      <th>month</th>\n",
       "      <th>name</th>\n",
       "      <th>description</th>\n",
       "      <th>transit</th>\n",
       "      <th>host_since</th>\n",
       "      <th>host_response_rate</th>\n",
       "      <th>host_has_profile_pic</th>\n",
       "      <th>host_identity_verified</th>\n",
       "      <th>neighbourhood</th>\n",
       "      <th>...</th>\n",
       "      <th>amenities</th>\n",
       "      <th>price</th>\n",
       "      <th>minimum_nights</th>\n",
       "      <th>availability_365</th>\n",
       "      <th>number_of_reviews</th>\n",
       "      <th>first_review</th>\n",
       "      <th>last_review</th>\n",
       "      <th>review_scores_rating</th>\n",
       "      <th>instant_bookable</th>\n",
       "      <th>cancellation_policy</th>\n",
       "    </tr>\n",
       "  </thead>\n",
       "  <tbody>\n",
       "    <tr>\n",
       "      <th>0</th>\n",
       "      <td>10595</td>\n",
       "      <td>February</td>\n",
       "      <td>96m2, 3BR, 2BA, Metro, WI-FI etc...</td>\n",
       "      <td>Athens Furnished Apartment No6 is 3-bedroom ap...</td>\n",
       "      <td>Note: 5-day ticket for all the public transpor...</td>\n",
       "      <td>2009-09-08</td>\n",
       "      <td>100%</td>\n",
       "      <td>t</td>\n",
       "      <td>t</td>\n",
       "      <td>Ambelokipi</td>\n",
       "      <td>...</td>\n",
       "      <td>{TV,\"Cable TV\",Internet,Wifi,\"Air conditioning...</td>\n",
       "      <td>$71.00</td>\n",
       "      <td>1</td>\n",
       "      <td>294</td>\n",
       "      <td>17</td>\n",
       "      <td>2011-05-20</td>\n",
       "      <td>2019-01-12</td>\n",
       "      <td>96.0</td>\n",
       "      <td>t</td>\n",
       "      <td>strict_14_with_grace_period</td>\n",
       "    </tr>\n",
       "    <tr>\n",
       "      <th>1</th>\n",
       "      <td>10988</td>\n",
       "      <td>February</td>\n",
       "      <td>75m2, 2-br, metro, wi-fi, cable TV</td>\n",
       "      <td>Athens Furnished Apartment No4 is 2-bedroom ap...</td>\n",
       "      <td>Note: 5-day ticket for all the public transpor...</td>\n",
       "      <td>2009-09-08</td>\n",
       "      <td>100%</td>\n",
       "      <td>t</td>\n",
       "      <td>t</td>\n",
       "      <td>Ambelokipi</td>\n",
       "      <td>...</td>\n",
       "      <td>{TV,\"Cable TV\",Internet,Wifi,\"Air conditioning...</td>\n",
       "      <td>$82.00</td>\n",
       "      <td>1</td>\n",
       "      <td>0</td>\n",
       "      <td>31</td>\n",
       "      <td>2012-10-21</td>\n",
       "      <td>2017-11-23</td>\n",
       "      <td>92.0</td>\n",
       "      <td>t</td>\n",
       "      <td>strict_14_with_grace_period</td>\n",
       "    </tr>\n",
       "    <tr>\n",
       "      <th>2</th>\n",
       "      <td>10990</td>\n",
       "      <td>February</td>\n",
       "      <td>50m2, Metro, WI-FI, cableTV, more</td>\n",
       "      <td>Athens Furnished Apartment No3 is 1-bedroom ap...</td>\n",
       "      <td>Note: 5-day ticket for all the public transpor...</td>\n",
       "      <td>2009-09-08</td>\n",
       "      <td>100%</td>\n",
       "      <td>t</td>\n",
       "      <td>t</td>\n",
       "      <td>Ambelokipi</td>\n",
       "      <td>...</td>\n",
       "      <td>{TV,\"Cable TV\",Internet,Wifi,\"Air conditioning...</td>\n",
       "      <td>$47.00</td>\n",
       "      <td>1</td>\n",
       "      <td>282</td>\n",
       "      <td>27</td>\n",
       "      <td>2012-09-06</td>\n",
       "      <td>2019-02-01</td>\n",
       "      <td>97.0</td>\n",
       "      <td>t</td>\n",
       "      <td>strict_14_with_grace_period</td>\n",
       "    </tr>\n",
       "    <tr>\n",
       "      <th>3</th>\n",
       "      <td>10993</td>\n",
       "      <td>February</td>\n",
       "      <td>Studio, metro, cable tv, wi-fi, etc</td>\n",
       "      <td>The Studio is an  -excellent located  -close t...</td>\n",
       "      <td>Note: 5-day ticket for all the public transpor...</td>\n",
       "      <td>2009-09-08</td>\n",
       "      <td>100%</td>\n",
       "      <td>t</td>\n",
       "      <td>t</td>\n",
       "      <td>Ambelokipi</td>\n",
       "      <td>...</td>\n",
       "      <td>{TV,\"Cable TV\",Internet,Wifi,\"Air conditioning...</td>\n",
       "      <td>$37.00</td>\n",
       "      <td>1</td>\n",
       "      <td>286</td>\n",
       "      <td>42</td>\n",
       "      <td>2012-09-24</td>\n",
       "      <td>2019-02-02</td>\n",
       "      <td>97.0</td>\n",
       "      <td>t</td>\n",
       "      <td>strict_14_with_grace_period</td>\n",
       "    </tr>\n",
       "    <tr>\n",
       "      <th>4</th>\n",
       "      <td>10995</td>\n",
       "      <td>February</td>\n",
       "      <td>47m2, close to metro,cable TV,wi-fi</td>\n",
       "      <td>AQA No2 is 1-bedroom apartment (47m2)  -excell...</td>\n",
       "      <td>Note: 5-day ticket for all the public transpor...</td>\n",
       "      <td>2009-09-08</td>\n",
       "      <td>100%</td>\n",
       "      <td>t</td>\n",
       "      <td>t</td>\n",
       "      <td>Ambelokipi</td>\n",
       "      <td>...</td>\n",
       "      <td>{TV,\"Cable TV\",Internet,Wifi,\"Air conditioning...</td>\n",
       "      <td>$47.00</td>\n",
       "      <td>2</td>\n",
       "      <td>308</td>\n",
       "      <td>16</td>\n",
       "      <td>2010-07-08</td>\n",
       "      <td>2019-01-11</td>\n",
       "      <td>95.0</td>\n",
       "      <td>t</td>\n",
       "      <td>strict_14_with_grace_period</td>\n",
       "    </tr>\n",
       "  </tbody>\n",
       "</table>\n",
       "<p>5 rows × 31 columns</p>\n",
       "</div>"
      ],
      "text/plain": [
       "      id     month                                 name  \\\n",
       "0  10595  February  96m2, 3BR, 2BA, Metro, WI-FI etc...   \n",
       "1  10988  February   75m2, 2-br, metro, wi-fi, cable TV   \n",
       "2  10990  February    50m2, Metro, WI-FI, cableTV, more   \n",
       "3  10993  February  Studio, metro, cable tv, wi-fi, etc   \n",
       "4  10995  February  47m2, close to metro,cable TV,wi-fi   \n",
       "\n",
       "                                         description  \\\n",
       "0  Athens Furnished Apartment No6 is 3-bedroom ap...   \n",
       "1  Athens Furnished Apartment No4 is 2-bedroom ap...   \n",
       "2  Athens Furnished Apartment No3 is 1-bedroom ap...   \n",
       "3  The Studio is an  -excellent located  -close t...   \n",
       "4  AQA No2 is 1-bedroom apartment (47m2)  -excell...   \n",
       "\n",
       "                                             transit  host_since  \\\n",
       "0  Note: 5-day ticket for all the public transpor...  2009-09-08   \n",
       "1  Note: 5-day ticket for all the public transpor...  2009-09-08   \n",
       "2  Note: 5-day ticket for all the public transpor...  2009-09-08   \n",
       "3  Note: 5-day ticket for all the public transpor...  2009-09-08   \n",
       "4  Note: 5-day ticket for all the public transpor...  2009-09-08   \n",
       "\n",
       "  host_response_rate host_has_profile_pic host_identity_verified  \\\n",
       "0               100%                    t                      t   \n",
       "1               100%                    t                      t   \n",
       "2               100%                    t                      t   \n",
       "3               100%                    t                      t   \n",
       "4               100%                    t                      t   \n",
       "\n",
       "  neighbourhood  ...                                          amenities  \\\n",
       "0    Ambelokipi  ...  {TV,\"Cable TV\",Internet,Wifi,\"Air conditioning...   \n",
       "1    Ambelokipi  ...  {TV,\"Cable TV\",Internet,Wifi,\"Air conditioning...   \n",
       "2    Ambelokipi  ...  {TV,\"Cable TV\",Internet,Wifi,\"Air conditioning...   \n",
       "3    Ambelokipi  ...  {TV,\"Cable TV\",Internet,Wifi,\"Air conditioning...   \n",
       "4    Ambelokipi  ...  {TV,\"Cable TV\",Internet,Wifi,\"Air conditioning...   \n",
       "\n",
       "    price  minimum_nights  availability_365 number_of_reviews first_review  \\\n",
       "0  $71.00               1               294                17   2011-05-20   \n",
       "1  $82.00               1                 0                31   2012-10-21   \n",
       "2  $47.00               1               282                27   2012-09-06   \n",
       "3  $37.00               1               286                42   2012-09-24   \n",
       "4  $47.00               2               308                16   2010-07-08   \n",
       "\n",
       "   last_review  review_scores_rating  instant_bookable  \\\n",
       "0   2019-01-12                  96.0                 t   \n",
       "1   2017-11-23                  92.0                 t   \n",
       "2   2019-02-01                  97.0                 t   \n",
       "3   2019-02-02                  97.0                 t   \n",
       "4   2019-01-11                  95.0                 t   \n",
       "\n",
       "           cancellation_policy  \n",
       "0  strict_14_with_grace_period  \n",
       "1  strict_14_with_grace_period  \n",
       "2  strict_14_with_grace_period  \n",
       "3  strict_14_with_grace_period  \n",
       "4  strict_14_with_grace_period  \n",
       "\n",
       "[5 rows x 31 columns]"
      ]
     },
     "execution_count": 3,
     "metadata": {},
     "output_type": "execute_result"
    }
   ],
   "source": [
    "df.head()"
   ]
  },
  {
   "cell_type": "markdown",
   "metadata": {},
   "source": [
    "For the time being, null values won't be discared. That's why in case we deleted all the null objects, we would exclude a sizeable portion of the data set, and maybe without any meaningful reason. So, we are going to tackle each question step by step and only in case of need we will discard null objects."
   ]
  },
  {
   "cell_type": "markdown",
   "metadata": {},
   "source": [
    "## Question 1.1"
   ]
  },
  {
   "cell_type": "markdown",
   "metadata": {},
   "source": [
    "What is the most common type of room_type for our data?"
   ]
  },
  {
   "cell_type": "code",
   "execution_count": null,
   "metadata": {
    "scrolled": false
   },
   "outputs": [],
   "source": [
    "df['room_type'].value_counts().plot(kind = 'pie', colors=['green', 'gold', 'black'], figsize = (8, 8))\n",
    "plt.title('Pie Chart for Room Type Distribution', fontsize = 20)\n",
    "plt.xlabel('Room Type')\n",
    "plt.ylabel('Number of entries')\n",
    "plt.show()"
   ]
  },
  {
   "cell_type": "markdown",
   "metadata": {},
   "source": [
    "It is crystal clear that the most common type of rooms is 'Entire home/apartment'"
   ]
  },
  {
   "cell_type": "code",
   "execution_count": null,
   "metadata": {},
   "outputs": [],
   "source": [
    "print('Number of entries for \"Entire home/apartment\": {}'.format(max(df['room_type'].value_counts())))"
   ]
  },
  {
   "cell_type": "markdown",
   "metadata": {},
   "source": [
    "## Question 1.2"
   ]
  },
  {
   "cell_type": "markdown",
   "metadata": {},
   "source": [
    "Plot graphs showing the fluctuation of prices for the 3 month period."
   ]
  },
  {
   "cell_type": "code",
   "execution_count": null,
   "metadata": {},
   "outputs": [],
   "source": [
    "# In order to plot numerical data we have to clean 'price' column by remove '$' symbol in each row\n",
    "def remove_dollar(row):\n",
    "    if row[0] == '$':\n",
    "        return row[1:]\n",
    "    return row\n",
    "\n",
    "df['price'] = df['price'].apply(lambda row: float(remove_dollar(row).replace(',','')))"
   ]
  },
  {
   "cell_type": "code",
   "execution_count": null,
   "metadata": {},
   "outputs": [],
   "source": [
    "# Calculate mean price for each month\n",
    "mean_prices = []\n",
    "months = ['February', 'March', 'April']\n",
    "for month in months:\n",
    "    mean_prices.append(np.mean(df.loc[df['month'] == month]['price']))"
   ]
  },
  {
   "cell_type": "code",
   "execution_count": null,
   "metadata": {},
   "outputs": [],
   "source": [
    "# Plot price fluctuation over the 3 months\n",
    "plot = plt.plot(months, mean_prices)\n",
    "plt.xlabel('Month')\n",
    "plt.ylabel('Price $')\n",
    "plt.title('Mean Price Fluctuation over February, March and April')\n",
    "plt.show()"
   ]
  },
  {
   "cell_type": "code",
   "execution_count": null,
   "metadata": {},
   "outputs": [],
   "source": [
    "for i, month in enumerate(months):\n",
    "    print(\"Mean price in month {}: ${:.2f}\".format(month, mean_prices[i]))"
   ]
  },
  {
   "cell_type": "markdown",
   "metadata": {},
   "source": [
    "## Question 1.3"
   ]
  },
  {
   "cell_type": "markdown",
   "metadata": {},
   "source": [
    " What are the top 5 neighborhoods with the most reviews?"
   ]
  },
  {
   "cell_type": "code",
   "execution_count": null,
   "metadata": {
    "scrolled": false
   },
   "outputs": [],
   "source": [
    "neighs = df.groupby('neighbourhood')\n",
    "reviews = neighs['number_of_reviews'].sum().sort_values().tail(5)\n",
    "\n",
    "reviews.plot(kind = 'bar', color=['#e59e6d', '#ba9653', '#963821', 'black', '#007a33'], figsize = (8, 6))\n",
    "plt.xlabel('Neighbourhood')\n",
    "plt.ylabel('Reviews')\n",
    "plt.title('Distribution of reviews in the top neighbourhoods')"
   ]
  },
  {
   "cell_type": "code",
   "execution_count": null,
   "metadata": {},
   "outputs": [],
   "source": [
    "# Get the previously found neighbourhoods as a list\n",
    "list_of_neighs = reviews.keys().tolist()\n",
    "n_reviews = reviews.tolist()\n",
    "# And print its members\n",
    "print(\"Top 5 neighbourhoods are: \\n\")\n",
    "for i,n in enumerate(list_of_neighs):\n",
    "    print('{} with {} reviews'.format(n, n_reviews[i]))"
   ]
  },
  {
   "cell_type": "markdown",
   "metadata": {},
   "source": [
    "## Question 1.4"
   ]
  },
  {
   "cell_type": "markdown",
   "metadata": {},
   "source": [
    "What is the neighborhood with most real estate listings?\n"
   ]
  },
  {
   "cell_type": "code",
   "execution_count": null,
   "metadata": {},
   "outputs": [],
   "source": [
    "res = df['neighbourhood'].value_counts()\n",
    "# We want the most common neighbourhood, thus the head of the list\n",
    "neig = res.keys().tolist()[0]\n",
    "# And also the properties it has\n",
    "n_props = res.tolist()[0]\n",
    "print(\"The neighbourhood with the most listings is {} with {} properties\".format(neig, n_props))"
   ]
  },
  {
   "cell_type": "markdown",
   "metadata": {},
   "source": [
    "## Question 1.5\n"
   ]
  },
  {
   "cell_type": "markdown",
   "metadata": {},
   "source": [
    "How many entries are per neighborhood and per month?\n"
   ]
  },
  {
   "cell_type": "markdown",
   "metadata": {},
   "source": [
    "### Entries per month"
   ]
  },
  {
   "cell_type": "code",
   "execution_count": null,
   "metadata": {},
   "outputs": [],
   "source": [
    "neighbourhoods = df['neighbourhood'].value_counts().keys().tolist()\n",
    "months = df['month'].value_counts().keys().tolist()\n",
    "\n",
    "for neighbourhood in neighbourhoods:\n",
    "    for month in reversed(months):\n",
    "        print(\"{} in {}: {}\".format(neighbourhood, month, \n",
    "            df.loc[(df['neighbourhood'] == neighbourhood) & (df['month'] == month)]['month'].value_counts().tolist()[0]))\n",
    "    print(\"----------------------------\")"
   ]
  },
  {
   "cell_type": "markdown",
   "metadata": {},
   "source": [
    "Below we are plotting for three randomly selected neighbourhoods the listings for each month"
   ]
  },
  {
   "cell_type": "code",
   "execution_count": null,
   "metadata": {},
   "outputs": [],
   "source": [
    "rand_neighbourhoods = random.choices(neighbourhoods, k=4)\n",
    "\n",
    "fig = plt.figure()\n",
    "\n",
    "for idx, rand_neighbourhood in enumerate(rand_neighbourhoods):\n",
    "    ax = fig.add_subplot(2, 2, idx+1)\n",
    "    df.loc[df['neighbourhood'] == rand_neighbourhood]['month'].value_counts().sort_values().plot(kind = 'bar', color = ['orange', 'dodgerblue', 'gray'], figsize = (8, 6))\n",
    "    ax.set_title(rand_neighbourhood)\n",
    "\n",
    "plt.tight_layout()\n",
    "plt.show()"
   ]
  },
  {
   "cell_type": "markdown",
   "metadata": {},
   "source": [
    "## Question 1.6"
   ]
  },
  {
   "cell_type": "markdown",
   "metadata": {},
   "source": [
    "Plot the histogram of the neighborhood_group variable.\n"
   ]
  },
  {
   "cell_type": "code",
   "execution_count": null,
   "metadata": {},
   "outputs": [],
   "source": [
    "df['neighbourhood'].value_counts().plot(kind = 'bar', color = ['purple','gold'], figsize = (8, 6))\n",
    "plt.title('Histogram of variable neighbourhood', fontsize = 20)\n",
    "plt.xlabel('Neighbourhood')\n",
    "plt.ylabel('Number of entries')\n",
    "plt.show()"
   ]
  },
  {
   "cell_type": "markdown",
   "metadata": {},
   "source": [
    "## Question 1.7"
   ]
  },
  {
   "cell_type": "markdown",
   "metadata": {},
   "source": [
    "What is the most common type of room (room_type) in every neighbourhood?\n"
   ]
  },
  {
   "cell_type": "code",
   "execution_count": null,
   "metadata": {},
   "outputs": [],
   "source": [
    "print(\"Most common type of room in every neighbourhood: \\n\")\n",
    "for neighbourhood in neighbourhoods:\n",
    "    print(\"{}: {} - entries: {}\".format(neighbourhood, \n",
    "                                    np.argmax(df.loc[df['neighbourhood'] == neighbourhood]['room_type'].value_counts()),\n",
    "                                    np.max(df.loc[df['neighbourhood'] == neighbourhood]['room_type'].value_counts())))\n"
   ]
  },
  {
   "cell_type": "markdown",
   "metadata": {},
   "source": [
    "## Question 1.8"
   ]
  },
  {
   "cell_type": "markdown",
   "metadata": {},
   "source": [
    "What is the most expensive room type?"
   ]
  },
  {
   "cell_type": "code",
   "execution_count": null,
   "metadata": {},
   "outputs": [],
   "source": [
    "# Group the data by the room type\n",
    "room_types = df.groupby('room_type')\n",
    "# FInd out the mean value of the prices in each room type\n",
    "prices = room_types['price'].mean().sort_values(ascending = False)\n",
    "prices.plot(kind = 'bar', color=['#00471b', '#eee1c6', '#0077c0'] ,figsize = (8, 6))\n",
    "plt.title('Cost per room type', fontsize = 20)\n",
    "plt.xlabel('Room Type')\n",
    "plt.ylabel('Cost in $')\n",
    "plt.show()"
   ]
  },
  {
   "cell_type": "code",
   "execution_count": null,
   "metadata": {},
   "outputs": [],
   "source": [
    "types = prices.keys().tolist()\n",
    "values = prices.tolist()\n",
    "\n",
    "print('The most expensive room type is \"{}\" with {:.1f} mean price'.format(types[0], values[0]))"
   ]
  },
  {
   "cell_type": "markdown",
   "metadata": {},
   "source": [
    "## Question 1.9"
   ]
  },
  {
   "cell_type": "markdown",
   "metadata": {},
   "source": [
    "Display in a map the listings of month Fenruary along with transit information in popup form."
   ]
  },
  {
   "cell_type": "code",
   "execution_count": null,
   "metadata": {},
   "outputs": [],
   "source": [
    "# store in a new dataframe the info latitude/longitude/transit for month February\n",
    "data = df[['latitude', 'longitude', 'transit']].loc[df['month'] == 'February']\n",
    "data.dropna(inplace=True)\n",
    "tooltip = 'Click me!'\n",
    "\n",
    "for row in data.itertuples():\n",
    "    mapit = folium.Map(location=[row.latitude, row.longitude], zoom_start=12)\n",
    "\n",
    "for row in data[:100].itertuples():\n",
    "    folium.Marker(location=[row.latitude, row.longitude], popup=row.transit, icon=folium.Icon(icon='info-sign')).add_to(mapit)"
   ]
  },
  {
   "cell_type": "code",
   "execution_count": null,
   "metadata": {
    "scrolled": false
   },
   "outputs": [],
   "source": [
    "# Display map generated from Folium\n",
    "mapit"
   ]
  },
  {
   "cell_type": "markdown",
   "metadata": {},
   "source": [
    "## Question 10"
   ]
  },
  {
   "cell_type": "markdown",
   "metadata": {},
   "source": [
    "Create wordclouds for columns neighbourhood/transit/description/last_review."
   ]
  },
  {
   "cell_type": "markdown",
   "metadata": {},
   "source": [
    "### Wordcloud for neighbourhood"
   ]
  },
  {
   "cell_type": "code",
   "execution_count": null,
   "metadata": {},
   "outputs": [],
   "source": [
    "df['neighbourhood'].dropna(inplace=True)\n",
    "wordcloud = WordCloud(max_words=1000,width=840, height=540, background_color=\"white\").generate(' '.join(df['neighbourhood'].tolist()))\n",
    "plt.imshow(wordcloud)\n",
    "plt.axis('off')\n",
    "plt.show()"
   ]
  },
  {
   "cell_type": "markdown",
   "metadata": {},
   "source": [
    "### Wordcloud for transit"
   ]
  },
  {
   "cell_type": "code",
   "execution_count": null,
   "metadata": {},
   "outputs": [],
   "source": [
    "df['transit'].dropna(inplace=True)\n",
    "wordcloud = WordCloud(max_words=1000,width=840, height=540, background_color=\"black\").generate(' '.join(df['transit'].tolist()))\n",
    "plt.imshow(wordcloud)\n",
    "plt.axis('off')\n",
    "plt.show()"
   ]
  },
  {
   "cell_type": "markdown",
   "metadata": {},
   "source": [
    "### Wordcloud for description"
   ]
  },
  {
   "cell_type": "code",
   "execution_count": null,
   "metadata": {},
   "outputs": [],
   "source": [
    "df['description'].dropna(inplace=True)\n",
    "wordcloud = WordCloud(max_words=1000,width=840, height=540, background_color=\"white\").generate(' '.join(df['description'].tolist()))\n",
    "plt.imshow(wordcloud)\n",
    "plt.axis('off')\n",
    "plt.show()"
   ]
  },
  {
   "cell_type": "markdown",
   "metadata": {},
   "source": [
    "### Wordcloud for last review"
   ]
  },
  {
   "cell_type": "markdown",
   "metadata": {},
   "source": [
    "lat_review column is an arethmetic one, thus, a wordcloud can not be created"
   ]
  },
  {
   "cell_type": "markdown",
   "metadata": {},
   "source": [
    "## Extra Questions"
   ]
  },
  {
   "cell_type": "markdown",
   "metadata": {},
   "source": [
    "### Question 1"
   ]
  },
  {
   "cell_type": "markdown",
   "metadata": {},
   "source": [
    "Which are the neighbourhoods with the best review score?"
   ]
  },
  {
   "cell_type": "code",
   "execution_count": null,
   "metadata": {},
   "outputs": [],
   "source": [
    "# Note: the neighs is the df grouped by the neighbourhood field, as stated above\n",
    "scores = neighs['review_scores_rating'].mean().sort_values(ascending = False).head(5)\n",
    "scores.plot(kind = 'barh', color=['powderblue', 'olive', 'indigo', 'magenta', 'gold'] ,figsize = (8, 6))\n",
    "plt.title('Review mean score per neighbourhood', fontsize = 20)\n",
    "# We know that the reviews are high, so no need to use all the range (0-100)\n",
    "plt.xlim((95,100))\n",
    "plt.ylabel('Neighbourhood')\n",
    "plt.xlabel('Review score /100')\n",
    "plt.show()"
   ]
  },
  {
   "cell_type": "code",
   "execution_count": null,
   "metadata": {},
   "outputs": [],
   "source": [
    "list_of_neighs = scores.keys().tolist()\n",
    "n_scores = scores.tolist()\n",
    "# And print its members\n",
    "print(\"Top 5 neighbourhoods are: \\n\")\n",
    "for i,n in enumerate(list_of_neighs):\n",
    "    print('{} with {:.2f} review score'.format(n, n_scores[i]))"
   ]
  },
  {
   "cell_type": "markdown",
   "metadata": {},
   "source": [
    "### Question 2"
   ]
  },
  {
   "cell_type": "markdown",
   "metadata": {},
   "source": [
    "How many people in average each room type accommodates?"
   ]
  },
  {
   "cell_type": "code",
   "execution_count": null,
   "metadata": {},
   "outputs": [],
   "source": [
    "room_types = df['room_type'].value_counts().keys()\n",
    "print(\"Average number of people each room type accommodates: \\n\")\n",
    "for room_type in room_types:\n",
    "    print(\"{}: {}\".format(room_type, round(df.loc[df['room_type'] == room_type]['accommodates'].mean())))"
   ]
  },
  {
   "cell_type": "markdown",
   "metadata": {},
   "source": [
    "## Recommendation system"
   ]
  },
  {
   "cell_type": "markdown",
   "metadata": {},
   "source": [
    "At first, create a new dataframe containing only the info id/name/description"
   ]
  },
  {
   "cell_type": "code",
   "execution_count": 4,
   "metadata": {},
   "outputs": [
    {
     "name": "stdout",
     "output_type": "stream",
     "text": [
      "<class 'pandas.core.frame.DataFrame'>\n",
      "RangeIndex: 28122 entries, 0 to 28121\n",
      "Data columns (total 3 columns):\n",
      "id             28122 non-null int64\n",
      "name           28092 non-null object\n",
      "description    27833 non-null object\n",
      "dtypes: int64(1), object(2)\n",
      "memory usage: 659.2+ KB\n"
     ]
    }
   ],
   "source": [
    "df = df[['id', 'name', 'description']]\n",
    "df.info()"
   ]
  },
  {
   "cell_type": "code",
   "execution_count": 5,
   "metadata": {},
   "outputs": [
    {
     "data": {
      "text/html": [
       "<div>\n",
       "<style scoped>\n",
       "    .dataframe tbody tr th:only-of-type {\n",
       "        vertical-align: middle;\n",
       "    }\n",
       "\n",
       "    .dataframe tbody tr th {\n",
       "        vertical-align: top;\n",
       "    }\n",
       "\n",
       "    .dataframe thead th {\n",
       "        text-align: right;\n",
       "    }\n",
       "</style>\n",
       "<table border=\"1\" class=\"dataframe\">\n",
       "  <thead>\n",
       "    <tr style=\"text-align: right;\">\n",
       "      <th></th>\n",
       "      <th>id</th>\n",
       "      <th>name</th>\n",
       "      <th>description</th>\n",
       "    </tr>\n",
       "  </thead>\n",
       "  <tbody>\n",
       "    <tr>\n",
       "      <th>0</th>\n",
       "      <td>10595</td>\n",
       "      <td>96m2, 3BR, 2BA, Metro, WI-FI etc...</td>\n",
       "      <td>Athens Furnished Apartment No6 is 3-bedroom ap...</td>\n",
       "    </tr>\n",
       "    <tr>\n",
       "      <th>1</th>\n",
       "      <td>10988</td>\n",
       "      <td>75m2, 2-br, metro, wi-fi, cable TV</td>\n",
       "      <td>Athens Furnished Apartment No4 is 2-bedroom ap...</td>\n",
       "    </tr>\n",
       "    <tr>\n",
       "      <th>2</th>\n",
       "      <td>10990</td>\n",
       "      <td>50m2, Metro, WI-FI, cableTV, more</td>\n",
       "      <td>Athens Furnished Apartment No3 is 1-bedroom ap...</td>\n",
       "    </tr>\n",
       "    <tr>\n",
       "      <th>3</th>\n",
       "      <td>10993</td>\n",
       "      <td>Studio, metro, cable tv, wi-fi, etc</td>\n",
       "      <td>The Studio is an  -excellent located  -close t...</td>\n",
       "    </tr>\n",
       "    <tr>\n",
       "      <th>4</th>\n",
       "      <td>10995</td>\n",
       "      <td>47m2, close to metro,cable TV,wi-fi</td>\n",
       "      <td>AQA No2 is 1-bedroom apartment (47m2)  -excell...</td>\n",
       "    </tr>\n",
       "  </tbody>\n",
       "</table>\n",
       "</div>"
      ],
      "text/plain": [
       "      id                                 name  \\\n",
       "0  10595  96m2, 3BR, 2BA, Metro, WI-FI etc...   \n",
       "1  10988   75m2, 2-br, metro, wi-fi, cable TV   \n",
       "2  10990    50m2, Metro, WI-FI, cableTV, more   \n",
       "3  10993  Studio, metro, cable tv, wi-fi, etc   \n",
       "4  10995  47m2, close to metro,cable TV,wi-fi   \n",
       "\n",
       "                                         description  \n",
       "0  Athens Furnished Apartment No6 is 3-bedroom ap...  \n",
       "1  Athens Furnished Apartment No4 is 2-bedroom ap...  \n",
       "2  Athens Furnished Apartment No3 is 1-bedroom ap...  \n",
       "3  The Studio is an  -excellent located  -close t...  \n",
       "4  AQA No2 is 1-bedroom apartment (47m2)  -excell...  "
      ]
     },
     "execution_count": 5,
     "metadata": {},
     "output_type": "execute_result"
    }
   ],
   "source": [
    "df.head()"
   ]
  },
  {
   "cell_type": "code",
   "execution_count": 6,
   "metadata": {},
   "outputs": [],
   "source": [
    "# drop any NaN value\n",
    "df.dropna(inplace=True)"
   ]
  },
  {
   "cell_type": "code",
   "execution_count": 7,
   "metadata": {},
   "outputs": [
    {
     "name": "stdout",
     "output_type": "stream",
     "text": [
      "<class 'pandas.core.frame.DataFrame'>\n",
      "Int64Index: 27803 entries, 0 to 28121\n",
      "Data columns (total 3 columns):\n",
      "id             27803 non-null int64\n",
      "name           27803 non-null object\n",
      "description    27803 non-null object\n",
      "dtypes: int64(1), object(2)\n",
      "memory usage: 868.8+ KB\n"
     ]
    }
   ],
   "source": [
    "df.info()"
   ]
  },
  {
   "cell_type": "markdown",
   "metadata": {},
   "source": [
    "### Preprocessing "
   ]
  },
  {
   "cell_type": "markdown",
   "metadata": {},
   "source": [
    "Now define our text precessing function. It will remove any punctuation and stopwords. Also it will convert all letters to lowercase and perform stemming aswell."
   ]
  },
  {
   "cell_type": "code",
   "execution_count": 8,
   "metadata": {},
   "outputs": [],
   "source": [
    "def preprocess_text(text):\n",
    "    # remove all punctuation\n",
    "    text = re.sub(r'[^\\w\\d\\s]', ' ', text)\n",
    "    # collapse all white spaces\n",
    "    text = re.sub(r'\\s+', ' ', text)\n",
    "    # convert to lower case\n",
    "    text = re.sub(r'^\\s+|\\s+?$', '', text.lower())\n",
    "    # remove stop words and perform stemming\n",
    "    stop_words = nltk.corpus.stopwords.words('english')\n",
    "    lemmatizer = WordNetLemmatizer() \n",
    "    return ' '.join(\n",
    "        lemmatizer.lemmatize(term) \n",
    "        for term in text.split()\n",
    "        if term not in set(stop_words)\n",
    "    )"
   ]
  },
  {
   "cell_type": "code",
   "execution_count": 9,
   "metadata": {},
   "outputs": [
    {
     "data": {
      "text/html": [
       "<div>\n",
       "<style scoped>\n",
       "    .dataframe tbody tr th:only-of-type {\n",
       "        vertical-align: middle;\n",
       "    }\n",
       "\n",
       "    .dataframe tbody tr th {\n",
       "        vertical-align: top;\n",
       "    }\n",
       "\n",
       "    .dataframe thead th {\n",
       "        text-align: right;\n",
       "    }\n",
       "</style>\n",
       "<table border=\"1\" class=\"dataframe\">\n",
       "  <thead>\n",
       "    <tr style=\"text-align: right;\">\n",
       "      <th></th>\n",
       "      <th>id</th>\n",
       "      <th>name</th>\n",
       "      <th>description</th>\n",
       "      <th>info</th>\n",
       "      <th>processed_info</th>\n",
       "    </tr>\n",
       "  </thead>\n",
       "  <tbody>\n",
       "    <tr>\n",
       "      <th>0</th>\n",
       "      <td>10595</td>\n",
       "      <td>96m2, 3BR, 2BA, Metro, WI-FI etc...</td>\n",
       "      <td>Athens Furnished Apartment No6 is 3-bedroom ap...</td>\n",
       "      <td>96m2, 3BR, 2BA, Metro, WI-FI etc...Athens Furn...</td>\n",
       "      <td>96m2 3br 2ba metro wi fi etc athens furnished ...</td>\n",
       "    </tr>\n",
       "    <tr>\n",
       "      <th>1</th>\n",
       "      <td>10988</td>\n",
       "      <td>75m2, 2-br, metro, wi-fi, cable TV</td>\n",
       "      <td>Athens Furnished Apartment No4 is 2-bedroom ap...</td>\n",
       "      <td>75m2, 2-br, metro, wi-fi, cable TVAthens Furni...</td>\n",
       "      <td>75m2 2 br metro wi fi cable tvathens furnished...</td>\n",
       "    </tr>\n",
       "    <tr>\n",
       "      <th>2</th>\n",
       "      <td>10990</td>\n",
       "      <td>50m2, Metro, WI-FI, cableTV, more</td>\n",
       "      <td>Athens Furnished Apartment No3 is 1-bedroom ap...</td>\n",
       "      <td>50m2, Metro, WI-FI, cableTV, moreAthens Furnis...</td>\n",
       "      <td>50m2 metro wi fi cabletv moreathens furnished ...</td>\n",
       "    </tr>\n",
       "    <tr>\n",
       "      <th>3</th>\n",
       "      <td>10993</td>\n",
       "      <td>Studio, metro, cable tv, wi-fi, etc</td>\n",
       "      <td>The Studio is an  -excellent located  -close t...</td>\n",
       "      <td>Studio, metro, cable tv, wi-fi, etcThe Studio ...</td>\n",
       "      <td>studio metro cable tv wi fi etcthe studio exce...</td>\n",
       "    </tr>\n",
       "    <tr>\n",
       "      <th>4</th>\n",
       "      <td>10995</td>\n",
       "      <td>47m2, close to metro,cable TV,wi-fi</td>\n",
       "      <td>AQA No2 is 1-bedroom apartment (47m2)  -excell...</td>\n",
       "      <td>47m2, close to metro,cable TV,wi-fiAQA No2 is ...</td>\n",
       "      <td>47m2 close metro cable tv wi fiaqa no2 1 bedro...</td>\n",
       "    </tr>\n",
       "  </tbody>\n",
       "</table>\n",
       "</div>"
      ],
      "text/plain": [
       "      id                                 name  \\\n",
       "0  10595  96m2, 3BR, 2BA, Metro, WI-FI etc...   \n",
       "1  10988   75m2, 2-br, metro, wi-fi, cable TV   \n",
       "2  10990    50m2, Metro, WI-FI, cableTV, more   \n",
       "3  10993  Studio, metro, cable tv, wi-fi, etc   \n",
       "4  10995  47m2, close to metro,cable TV,wi-fi   \n",
       "\n",
       "                                         description  \\\n",
       "0  Athens Furnished Apartment No6 is 3-bedroom ap...   \n",
       "1  Athens Furnished Apartment No4 is 2-bedroom ap...   \n",
       "2  Athens Furnished Apartment No3 is 1-bedroom ap...   \n",
       "3  The Studio is an  -excellent located  -close t...   \n",
       "4  AQA No2 is 1-bedroom apartment (47m2)  -excell...   \n",
       "\n",
       "                                                info  \\\n",
       "0  96m2, 3BR, 2BA, Metro, WI-FI etc...Athens Furn...   \n",
       "1  75m2, 2-br, metro, wi-fi, cable TVAthens Furni...   \n",
       "2  50m2, Metro, WI-FI, cableTV, moreAthens Furnis...   \n",
       "3  Studio, metro, cable tv, wi-fi, etcThe Studio ...   \n",
       "4  47m2, close to metro,cable TV,wi-fiAQA No2 is ...   \n",
       "\n",
       "                                      processed_info  \n",
       "0  96m2 3br 2ba metro wi fi etc athens furnished ...  \n",
       "1  75m2 2 br metro wi fi cable tvathens furnished...  \n",
       "2  50m2 metro wi fi cabletv moreathens furnished ...  \n",
       "3  studio metro cable tv wi fi etcthe studio exce...  \n",
       "4  47m2 close metro cable tv wi fiaqa no2 1 bedro...  "
      ]
     },
     "execution_count": 9,
     "metadata": {},
     "output_type": "execute_result"
    }
   ],
   "source": [
    "# Concatenate name and description in one column and perform preprocessing\n",
    "df['info'] = df['name'] + df['description']\n",
    "df['processed_info'] = df['info'].apply(lambda row : preprocess_text(row))\n",
    "df.head()"
   ]
  },
  {
   "cell_type": "markdown",
   "metadata": {},
   "source": [
    "### Term Frequency - Inverse Document Frequency"
   ]
  },
  {
   "cell_type": "code",
   "execution_count": 10,
   "metadata": {},
   "outputs": [
    {
     "name": "stdout",
     "output_type": "stream",
     "text": [
      "(27803, 294419)\n"
     ]
    }
   ],
   "source": [
    "tfidf_data = TfidfVectorizer(ngram_range=(1, 2)).fit_transform(df.processed_info).toarray()\n",
    "print(tfidf_data.shape)"
   ]
  },
  {
   "cell_type": "markdown",
   "metadata": {},
   "source": [
    "As we expected our vectorized data using TF-IDF method contains 27803 rows as the number of listings and 294419 features"
   ]
  },
  {
   "cell_type": "markdown",
   "metadata": {},
   "source": [
    "### Listings similarity "
   ]
  },
  {
   "cell_type": "markdown",
   "metadata": {},
   "source": [
    "In this step, we are going to calculate the similarity of each listing with the remaining ones using tfidf_vec and cosine similarity function"
   ]
  },
  {
   "cell_type": "code",
   "execution_count": 10,
   "metadata": {},
   "outputs": [],
   "source": [
    "# compute cosine similarity of 2 numpy arrays\n",
    "def cosine_similarity(X, Y):\n",
    "    dot = np.dot(X, Y)\n",
    "    norma = np.linalg.norm(X)\n",
    "    normb = np.linalg.norm(Y)\n",
    "    cos = dot / (norma * normb)\n",
    "    return cos"
   ]
  },
  {
   "cell_type": "code",
   "execution_count": 11,
   "metadata": {},
   "outputs": [],
   "source": [
    "# listings_similarity = {}\n",
    "# listings_ids = df['id'].values\n",
    "# for idx_i, i in enumerate(tfidf_data):\n",
    "#     # if vectorized listing i has at least one non zero value\n",
    "#     if i.any(axis=0):\n",
    "#         for idx_j in range(idx_i+1, len(tfidf_data)):\n",
    "#             j = tfidf_data[idx_j]\n",
    "#             # if vectorized listing j has at least one non zero value\n",
    "#             if j.any(axis=0):\n",
    "#                 similarity = cosine_similarity(i,j)\n",
    "#                 # get listings' ids\n",
    "#                 id1 = listings_ids[idx_i]\n",
    "#                 id2 = listings_ids[idx_j]\n",
    "#                 # We want to store in a dictionary the 100 \n",
    "#                 # most similar listings\n",
    "#                 if (idx_i < 100):\n",
    "#                     # store similarity of listings\n",
    "#                     listings_similarity[(id1, id2)] = similarity\n",
    "#                 else:\n",
    "#                     min_id1, min_id2 = min(listings_similarity, key=listings_similarity.get)\n",
    "#                     if similarity > listings_similarity[(min_id1, min_id2)]:\n",
    "#                         del listings_similarity[(min_id1, min_id2)]\n",
    "#                         listings_similarity[(id1, id2)] = similarity"
   ]
  },
  {
   "cell_type": "markdown",
   "metadata": {},
   "source": [
    "### Recommend most similar listings"
   ]
  },
  {
   "cell_type": "code",
   "execution_count": null,
   "metadata": {},
   "outputs": [],
   "source": [
    "model_knn = NearestNeighbors(metric='cosine', algorithm='brute')\n",
    "model_knn.fit(tfidf_data)\n",
    "\n",
    "distances, indices = model_knn.kneighbors(tfidf_data[1313].reshape(-1,1), n_neighbors=5)    "
   ]
  },
  {
   "cell_type": "code",
   "execution_count": null,
   "metadata": {},
   "outputs": [],
   "source": [
    "for i in range(0, len(distances.flatten())):\n",
    "    if i == 0:\n",
    "        print(\"Titlos\")\n",
    "    else:\n",
    "        print(\"{} {}\".format(df.index[indices.flatten()[i]], distances.flatten()[i]))"
   ]
  },
  {
   "cell_type": "markdown",
   "metadata": {},
   "source": [
    "### Top-10 words which commonly co-occur"
   ]
  },
  {
   "cell_type": "code",
   "execution_count": 21,
   "metadata": {},
   "outputs": [],
   "source": [
    "\"\"\"\n",
    "A utility function which constructs\n",
    "a list of all words in the column\n",
    "processed_info.\n",
    "\"\"\"\n",
    "def get_corpus(data):\n",
    "    corpus = []\n",
    "    for row in data.iteritems():\n",
    "        for sub_item in row[1].split(' '):\n",
    "            corpus.append(sub_item)\n",
    "    return corpus"
   ]
  },
  {
   "cell_type": "code",
   "execution_count": 22,
   "metadata": {},
   "outputs": [],
   "source": [
    "bigram_measures = BigramAssocMeasures()\n",
    "finder = BigramCollocationFinder.from_words(get_corpus(df['processed_info']))\n",
    "top10_collocations = finder.nbest(BigramAssocMeasures.pmi, 10)"
   ]
  },
  {
   "cell_type": "code",
   "execution_count": 23,
   "metadata": {},
   "outputs": [
    {
     "name": "stdout",
     "output_type": "stream",
     "text": [
      "Top-10 words which commonly co-occur: \n",
      "\n",
      "11번도 - 지나는\n",
      "16pax_wifi_ikea_acropolis_metro - 5min_15athens_1pax_wifi_ikea\n",
      "227gr - canister\n",
      "2번 - 4번\n",
      "3πλή - ηλεκτροβάνα\n",
      "52th - 66th\n",
      "5min_15 - athens_1pax_wifi_ikea_acropolis_metro\n",
      "5min_23athens99_1pax_wifi_ikea_acropolis_metro - 5min_23\n",
      "5min_50athens99_5pax_wifi_ikea_acropolis_metro - 5min_50\n",
      "5min_8099_8pax_wifi_ikeabed_acropolis_metro - 5min_80\n"
     ]
    }
   ],
   "source": [
    "print(\"Top-10 words which commonly co-occur: \\n\")\n",
    "for pair_words in top10_collocations:\n",
    "    print(\"{} - {}\".format(pair_words[0], pair_words[1]))"
   ]
  }
 ],
 "metadata": {
  "kernelspec": {
   "display_name": "Python 3",
   "language": "python",
   "name": "python3"
  },
  "language_info": {
   "codemirror_mode": {
    "name": "ipython",
    "version": 3
   },
   "file_extension": ".py",
   "mimetype": "text/x-python",
   "name": "python",
   "nbconvert_exporter": "python",
   "pygments_lexer": "ipython3",
   "version": "3.7.3"
  }
 },
 "nbformat": 4,
 "nbformat_minor": 2
}
