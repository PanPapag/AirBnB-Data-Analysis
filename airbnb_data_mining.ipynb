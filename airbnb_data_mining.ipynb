{
 "cells": [
  {
   "cell_type": "markdown",
   "metadata": {},
   "source": [
    "# Airbnb Data Mining Notebook"
   ]
  },
  {
   "cell_type": "markdown",
   "metadata": {},
   "source": [
    "In this notebook we are going to deal with data from a well-known residential rental application, Airbnb. Specifically, based on the data for the Athens area for 3 months of 2019 (February, March and April), we are going to answer the following question: \n",
    "* What is the most common type of room_type for our data?\n",
    "* Plot graphs showing the fluctuation of prices for the 3 month period.\n",
    "* What are the top 5 neighborhoods with the most reviews?\n",
    "* What is the neighborhood with most real estate listings?\n",
    "* How many entries are per neighborhood and per month?\n",
    "* Plot the histogram of the neighborhood_group variable.\n",
    "* What is the most common type of room (room_type)?\n",
    "* What is the most common room type (room_type) in each neighborhood (neighborhood_group)?\n",
    "* What is the most expensive room type?"
   ]
  },
  {
   "cell_type": "markdown",
   "metadata": {},
   "source": [
    "## Import Libraries"
   ]
  },
  {
   "cell_type": "code",
   "execution_count": 1,
   "metadata": {},
   "outputs": [
    {
     "ename": "ImportError",
     "evalue": "No module named nltk",
     "output_type": "error",
     "traceback": [
      "\u001b[0;31m---------------------------------------------------------------------------\u001b[0m",
      "\u001b[0;31mImportError\u001b[0m                               Traceback (most recent call last)",
      "\u001b[0;32m<ipython-input-1-3138dae0a93c>\u001b[0m in \u001b[0;36m<module>\u001b[0;34m()\u001b[0m\n\u001b[1;32m     14\u001b[0m \u001b[0;32mimport\u001b[0m \u001b[0mpandas\u001b[0m \u001b[0;32mas\u001b[0m \u001b[0mpd\u001b[0m\u001b[0;34m\u001b[0m\u001b[0;34m\u001b[0m\u001b[0m\n\u001b[1;32m     15\u001b[0m \u001b[0;31m# Natural language processing library\u001b[0m\u001b[0;34m\u001b[0m\u001b[0;34m\u001b[0m\u001b[0;34m\u001b[0m\u001b[0m\n\u001b[0;32m---> 16\u001b[0;31m \u001b[0;32mimport\u001b[0m \u001b[0mnltk\u001b[0m\u001b[0;34m\u001b[0m\u001b[0;34m\u001b[0m\u001b[0m\n\u001b[0m\u001b[1;32m     17\u001b[0m \u001b[0mnltk\u001b[0m\u001b[0;34m.\u001b[0m\u001b[0mdownload\u001b[0m\u001b[0;34m(\u001b[0m\u001b[0;34m'stopwords'\u001b[0m\u001b[0;34m)\u001b[0m\u001b[0;34m\u001b[0m\u001b[0;34m\u001b[0m\u001b[0m\n\u001b[1;32m     18\u001b[0m \u001b[0;32mfrom\u001b[0m \u001b[0mnltk\u001b[0m\u001b[0;34m.\u001b[0m\u001b[0mcorpus\u001b[0m \u001b[0;32mimport\u001b[0m \u001b[0mstopwords\u001b[0m\u001b[0;34m\u001b[0m\u001b[0;34m\u001b[0m\u001b[0m\n",
      "\u001b[0;31mImportError\u001b[0m: No module named nltk"
     ]
    }
   ],
   "source": [
    "# Ignoring unnecessory warnings\n",
    "import warnings\n",
    "warnings.filterwarnings(\"ignore\")  \n",
    "# Specialized container datatypes\n",
    "import collections\n",
    "# For data vizualization \n",
    "import matplotlib as mpl\n",
    "import matplotlib.pyplot as plt\n",
    "%matplotlib inline\n",
    "import seaborn as sns\n",
    "# For large and multi-dimensional arrays\n",
    "import numpy as np\n",
    "# For data manipulation and analysis\n",
    "import pandas as pd\n",
    "# Natural language processing library\n",
    "import nltk\n",
    "nltk.download('stopwords')\n",
    "from nltk.corpus import stopwords\n",
    "from nltk.stem import WordNetLemmatizer \n",
    "from nltk.stem import SnowballStemmer\n",
    "from nltk.tokenize import word_tokenize\n",
    "from nltk.util import ngrams\n",
    "# For basic cleaning and data preprocessing \n",
    "import re\n",
    "import string \n",
    "# Communicating with operating and file system\n",
    "import os\n",
    "# Machine learning libary\n",
    "from sklearn.feature_extraction.text import CountVectorizer\n",
    "from sklearn.feature_extraction.text import TfidfVectorizer\n",
    "from sklearn.metrics import accuracy_score\n",
    "from sklearn.metrics import classification_report,confusion_matrix\n",
    "from sklearn.metrics import precision_recall_fscore_support as score\n",
    "from sklearn.model_selection import GridSearchCV\n",
    "from sklearn.model_selection import train_test_split\n",
    "from sklearn.naive_bayes import MultinomialNB\n",
    "# For wordcloud generating \n",
    "from wordcloud import WordCloud"
   ]
  },
  {
   "cell_type": "markdown",
   "metadata": {},
   "source": [
    "## Load Dataset"
   ]
  },
  {
   "cell_type": "markdown",
   "metadata": {},
   "source": [
    "Read the data using pandas' read_csv method and let's look at the dataset info to see if everything is alright."
   ]
  },
  {
   "cell_type": "code",
   "execution_count": 2,
   "metadata": {},
   "outputs": [
    {
     "data": {
      "text/html": [
       "<div>\n",
       "<style scoped>\n",
       "    .dataframe tbody tr th:only-of-type {\n",
       "        vertical-align: middle;\n",
       "    }\n",
       "\n",
       "    .dataframe tbody tr th {\n",
       "        vertical-align: top;\n",
       "    }\n",
       "\n",
       "    .dataframe thead th {\n",
       "        text-align: right;\n",
       "    }\n",
       "</style>\n",
       "<table border=\"1\" class=\"dataframe\">\n",
       "  <thead>\n",
       "    <tr style=\"text-align: right;\">\n",
       "      <th></th>\n",
       "      <th>id</th>\n",
       "      <th>month</th>\n",
       "      <th>name</th>\n",
       "      <th>description</th>\n",
       "      <th>transit</th>\n",
       "      <th>host_since</th>\n",
       "      <th>host_response_rate</th>\n",
       "      <th>host_has_profile_pic</th>\n",
       "      <th>host_identity_verified</th>\n",
       "      <th>neighbourhood</th>\n",
       "      <th>...</th>\n",
       "      <th>amenities</th>\n",
       "      <th>price</th>\n",
       "      <th>minimum_nights</th>\n",
       "      <th>availability_365</th>\n",
       "      <th>number_of_reviews</th>\n",
       "      <th>first_review</th>\n",
       "      <th>last_review</th>\n",
       "      <th>review_scores_rating</th>\n",
       "      <th>instant_bookable</th>\n",
       "      <th>cancellation_policy</th>\n",
       "    </tr>\n",
       "  </thead>\n",
       "  <tbody>\n",
       "    <tr>\n",
       "      <th>0</th>\n",
       "      <td>10595</td>\n",
       "      <td>February</td>\n",
       "      <td>96m2, 3BR, 2BA, Metro, WI-FI etc...</td>\n",
       "      <td>Athens Furnished Apartment No6 is 3-bedroom ap...</td>\n",
       "      <td>Note: 5-day ticket for all the public transpor...</td>\n",
       "      <td>2009-09-08</td>\n",
       "      <td>100%</td>\n",
       "      <td>t</td>\n",
       "      <td>t</td>\n",
       "      <td>Ambelokipi</td>\n",
       "      <td>...</td>\n",
       "      <td>{TV,\"Cable TV\",Internet,Wifi,\"Air conditioning...</td>\n",
       "      <td>$71.00</td>\n",
       "      <td>1</td>\n",
       "      <td>294</td>\n",
       "      <td>17</td>\n",
       "      <td>2011-05-20</td>\n",
       "      <td>2019-01-12</td>\n",
       "      <td>96.0</td>\n",
       "      <td>t</td>\n",
       "      <td>strict_14_with_grace_period</td>\n",
       "    </tr>\n",
       "    <tr>\n",
       "      <th>1</th>\n",
       "      <td>10988</td>\n",
       "      <td>February</td>\n",
       "      <td>75m2, 2-br, metro, wi-fi, cable TV</td>\n",
       "      <td>Athens Furnished Apartment No4 is 2-bedroom ap...</td>\n",
       "      <td>Note: 5-day ticket for all the public transpor...</td>\n",
       "      <td>2009-09-08</td>\n",
       "      <td>100%</td>\n",
       "      <td>t</td>\n",
       "      <td>t</td>\n",
       "      <td>Ambelokipi</td>\n",
       "      <td>...</td>\n",
       "      <td>{TV,\"Cable TV\",Internet,Wifi,\"Air conditioning...</td>\n",
       "      <td>$82.00</td>\n",
       "      <td>1</td>\n",
       "      <td>0</td>\n",
       "      <td>31</td>\n",
       "      <td>2012-10-21</td>\n",
       "      <td>2017-11-23</td>\n",
       "      <td>92.0</td>\n",
       "      <td>t</td>\n",
       "      <td>strict_14_with_grace_period</td>\n",
       "    </tr>\n",
       "    <tr>\n",
       "      <th>2</th>\n",
       "      <td>10990</td>\n",
       "      <td>February</td>\n",
       "      <td>50m2, Metro, WI-FI, cableTV, more</td>\n",
       "      <td>Athens Furnished Apartment No3 is 1-bedroom ap...</td>\n",
       "      <td>Note: 5-day ticket for all the public transpor...</td>\n",
       "      <td>2009-09-08</td>\n",
       "      <td>100%</td>\n",
       "      <td>t</td>\n",
       "      <td>t</td>\n",
       "      <td>Ambelokipi</td>\n",
       "      <td>...</td>\n",
       "      <td>{TV,\"Cable TV\",Internet,Wifi,\"Air conditioning...</td>\n",
       "      <td>$47.00</td>\n",
       "      <td>1</td>\n",
       "      <td>282</td>\n",
       "      <td>27</td>\n",
       "      <td>2012-09-06</td>\n",
       "      <td>2019-02-01</td>\n",
       "      <td>97.0</td>\n",
       "      <td>t</td>\n",
       "      <td>strict_14_with_grace_period</td>\n",
       "    </tr>\n",
       "    <tr>\n",
       "      <th>3</th>\n",
       "      <td>10993</td>\n",
       "      <td>February</td>\n",
       "      <td>Studio, metro, cable tv, wi-fi, etc</td>\n",
       "      <td>The Studio is an  -excellent located  -close t...</td>\n",
       "      <td>Note: 5-day ticket for all the public transpor...</td>\n",
       "      <td>2009-09-08</td>\n",
       "      <td>100%</td>\n",
       "      <td>t</td>\n",
       "      <td>t</td>\n",
       "      <td>Ambelokipi</td>\n",
       "      <td>...</td>\n",
       "      <td>{TV,\"Cable TV\",Internet,Wifi,\"Air conditioning...</td>\n",
       "      <td>$37.00</td>\n",
       "      <td>1</td>\n",
       "      <td>286</td>\n",
       "      <td>42</td>\n",
       "      <td>2012-09-24</td>\n",
       "      <td>2019-02-02</td>\n",
       "      <td>97.0</td>\n",
       "      <td>t</td>\n",
       "      <td>strict_14_with_grace_period</td>\n",
       "    </tr>\n",
       "    <tr>\n",
       "      <th>4</th>\n",
       "      <td>10995</td>\n",
       "      <td>February</td>\n",
       "      <td>47m2, close to metro,cable TV,wi-fi</td>\n",
       "      <td>AQA No2 is 1-bedroom apartment (47m2)  -excell...</td>\n",
       "      <td>Note: 5-day ticket for all the public transpor...</td>\n",
       "      <td>2009-09-08</td>\n",
       "      <td>100%</td>\n",
       "      <td>t</td>\n",
       "      <td>t</td>\n",
       "      <td>Ambelokipi</td>\n",
       "      <td>...</td>\n",
       "      <td>{TV,\"Cable TV\",Internet,Wifi,\"Air conditioning...</td>\n",
       "      <td>$47.00</td>\n",
       "      <td>2</td>\n",
       "      <td>308</td>\n",
       "      <td>16</td>\n",
       "      <td>2010-07-08</td>\n",
       "      <td>2019-01-11</td>\n",
       "      <td>95.0</td>\n",
       "      <td>t</td>\n",
       "      <td>strict_14_with_grace_period</td>\n",
       "    </tr>\n",
       "  </tbody>\n",
       "</table>\n",
       "<p>5 rows × 31 columns</p>\n",
       "</div>"
      ],
      "text/plain": [
       "      id     month                                 name  \\\n",
       "0  10595  February  96m2, 3BR, 2BA, Metro, WI-FI etc...   \n",
       "1  10988  February   75m2, 2-br, metro, wi-fi, cable TV   \n",
       "2  10990  February    50m2, Metro, WI-FI, cableTV, more   \n",
       "3  10993  February  Studio, metro, cable tv, wi-fi, etc   \n",
       "4  10995  February  47m2, close to metro,cable TV,wi-fi   \n",
       "\n",
       "                                         description  \\\n",
       "0  Athens Furnished Apartment No6 is 3-bedroom ap...   \n",
       "1  Athens Furnished Apartment No4 is 2-bedroom ap...   \n",
       "2  Athens Furnished Apartment No3 is 1-bedroom ap...   \n",
       "3  The Studio is an  -excellent located  -close t...   \n",
       "4  AQA No2 is 1-bedroom apartment (47m2)  -excell...   \n",
       "\n",
       "                                             transit  host_since  \\\n",
       "0  Note: 5-day ticket for all the public transpor...  2009-09-08   \n",
       "1  Note: 5-day ticket for all the public transpor...  2009-09-08   \n",
       "2  Note: 5-day ticket for all the public transpor...  2009-09-08   \n",
       "3  Note: 5-day ticket for all the public transpor...  2009-09-08   \n",
       "4  Note: 5-day ticket for all the public transpor...  2009-09-08   \n",
       "\n",
       "  host_response_rate host_has_profile_pic host_identity_verified  \\\n",
       "0               100%                    t                      t   \n",
       "1               100%                    t                      t   \n",
       "2               100%                    t                      t   \n",
       "3               100%                    t                      t   \n",
       "4               100%                    t                      t   \n",
       "\n",
       "  neighbourhood  ...                                          amenities  \\\n",
       "0    Ambelokipi  ...  {TV,\"Cable TV\",Internet,Wifi,\"Air conditioning...   \n",
       "1    Ambelokipi  ...  {TV,\"Cable TV\",Internet,Wifi,\"Air conditioning...   \n",
       "2    Ambelokipi  ...  {TV,\"Cable TV\",Internet,Wifi,\"Air conditioning...   \n",
       "3    Ambelokipi  ...  {TV,\"Cable TV\",Internet,Wifi,\"Air conditioning...   \n",
       "4    Ambelokipi  ...  {TV,\"Cable TV\",Internet,Wifi,\"Air conditioning...   \n",
       "\n",
       "    price  minimum_nights  availability_365 number_of_reviews first_review  \\\n",
       "0  $71.00               1               294                17   2011-05-20   \n",
       "1  $82.00               1                 0                31   2012-10-21   \n",
       "2  $47.00               1               282                27   2012-09-06   \n",
       "3  $37.00               1               286                42   2012-09-24   \n",
       "4  $47.00               2               308                16   2010-07-08   \n",
       "\n",
       "   last_review  review_scores_rating  instant_bookable  \\\n",
       "0   2019-01-12                  96.0                 t   \n",
       "1   2017-11-23                  92.0                 t   \n",
       "2   2019-02-01                  97.0                 t   \n",
       "3   2019-02-02                  97.0                 t   \n",
       "4   2019-01-11                  95.0                 t   \n",
       "\n",
       "           cancellation_policy  \n",
       "0  strict_14_with_grace_period  \n",
       "1  strict_14_with_grace_period  \n",
       "2  strict_14_with_grace_period  \n",
       "3  strict_14_with_grace_period  \n",
       "4  strict_14_with_grace_period  \n",
       "\n",
       "[5 rows x 31 columns]"
      ]
     },
     "execution_count": 2,
     "metadata": {},
     "output_type": "execute_result"
    }
   ],
   "source": [
    "DATASET = \"./data/train.csv\"\n",
    "df = pd.read_csv(DATASET)\n",
    "df.head()"
   ]
  },
  {
   "cell_type": "markdown",
   "metadata": {},
   "source": [
    "For the time being, null values won't be discared. That's why in case we deleted all the null objects, we would exclude a sizeable portion of the data set, and maybe without any meaningful reason. So, we are going to tackle each question step by step and only in case of need we will discard null objects."
   ]
  },
  {
   "cell_type": "markdown",
   "metadata": {},
   "source": [
    "## Question 1.1"
   ]
  },
  {
   "cell_type": "markdown",
   "metadata": {},
   "source": [
    "What is the most common type of room_type for our data?"
   ]
  },
  {
   "cell_type": "code",
   "execution_count": 3,
   "metadata": {
    "scrolled": false
   },
   "outputs": [
    {
     "data": {
      "image/png": "[encoded data removed]",
      "text/plain": [
       "<Figure size 576x432 with 1 Axes>"
      ]
     },
     "metadata": {
      "needs_background": "light"
     },
     "output_type": "display_data"
    }
   ],
   "source": [
    "df['room_type'].value_counts().plot(kind = 'bar', color=['red', 'green', 'blue'], figsize = (8, 6))\n",
    "plt.title('Bar Chart for Room Type Distribution', fontsize = 20)\n",
    "plt.xlabel('Room Type')\n",
    "plt.ylabel('Number of entries')\n",
    "plt.show()"
   ]
  },
  {
   "cell_type": "markdown",
   "metadata": {},
   "source": [
    "It is crystal clear that the most common type of rooms is 'Entire home/apartment'"
   ]
  },
  {
   "cell_type": "code",
   "execution_count": 4,
   "metadata": {},
   "outputs": [
    {
     "name": "stdout",
     "output_type": "stream",
     "text": [
      "Number of entries for \"Entire home/apartment\": 24765\n"
     ]
    }
   ],
   "source": [
    "print('Number of entries for \"Entire home/apartment\": {}'.format(max(df['room_type'].value_counts())))"
   ]
  },
  {
   "cell_type": "markdown",
   "metadata": {},
   "source": [
    "## Question 1.2"
   ]
  },
  {
   "cell_type": "markdown",
   "metadata": {},
   "source": [
    "Plot graphs showing the fluctuation of prices for the 3 month period."
   ]
  },
  {
   "cell_type": "code",
   "execution_count": 5,
   "metadata": {},
   "outputs": [],
   "source": [
    "# In order to plot numerical data we have to clean 'price' column by remove '$' symbol in each row\n",
    "def remove_dollar(row):\n",
    "    if row[0] == '$':\n",
    "        return row[1:]\n",
    "    return row\n",
    "\n",
    "df['price'] = df['price'].apply(lambda row: float(remove_dollar(row).replace(',','')))"
   ]
  },
  {
   "cell_type": "code",
   "execution_count": 6,
   "metadata": {},
   "outputs": [],
   "source": [
    "# Calculate mean price for each month\n",
    "mean_prices = []\n",
    "months = ['February', 'March', 'April']\n",
    "for month in months:\n",
    "    mean_prices.append(np.mean(df.loc[df['month'] == month]['price']))"
   ]
  },
  {
   "cell_type": "code",
   "execution_count": 7,
   "metadata": {},
   "outputs": [
    {
     "data": {
      "image/png": "[encoded data removed]",
      "text/plain": [
       "<Figure size 432x288 with 1 Axes>"
      ]
     },
     "metadata": {
      "needs_background": "light"
     },
     "output_type": "display_data"
    }
   ],
   "source": [
    "# Plot price fluctuation over the 3 months\n",
    "plot = plt.plot(months, mean_prices)\n",
    "plt.xlabel('Month')\n",
    "plt.ylabel('Price $')\n",
    "plt.title('Mean Price Fluctuation over February, March and April')\n",
    "plt.show()"
   ]
  },
  {
   "cell_type": "code",
   "execution_count": 8,
   "metadata": {},
   "outputs": [
    {
     "name": "stdout",
     "output_type": "stream",
     "text": [
      "Mean price in month February: $65.50\n",
      "Mean price in month March: $64.89\n",
      "Mean price in month April: $64.36\n"
     ]
    }
   ],
   "source": [
    "for i, month in enumerate(months):\n",
    "    print(\"Mean price in month {}: ${:.2f}\".format(month, mean_prices[i]))"
   ]
  },
  {
   "cell_type": "markdown",
   "metadata": {},
   "source": [
    "## Question 1.3"
   ]
  },
  {
   "cell_type": "markdown",
   "metadata": {},
   "source": [
    " What are the top 5 neighborhoods with the most reviews?"
   ]
  },
  {
   "cell_type": "code",
   "execution_count": 9,
   "metadata": {},
   "outputs": [
    {
     "data": {
      "text/plain": [
       "Text(0.5,1,'Distribution of reviews in the top neighbourhoods')"
      ]
     },
     "execution_count": 9,
     "metadata": {},
     "output_type": "execute_result"
    },
    {
     "data": {
      "image/png": "[encoded data removed]",
      "text/plain": [
       "<Figure size 576x432 with 1 Axes>"
      ]
     },
     "metadata": {
      "needs_background": "light"
     },
     "output_type": "display_data"
    }
   ],
   "source": [
    "top_neighs = df['number_of_reviews'].value_counts().head(5)\n",
    "top_neighs.plot(kind = 'bar', color=['red', 'green', 'blue', 'yellow', 'black'], figsize = (8, 6))\n",
    "plt.xlabel('Neighbourhood')\n",
    "plt.ylabel('Reviews')\n",
    "plt.title('Distribution of reviews in the top neighbourhoods')"
   ]
  },
  {
   "cell_type": "code",
   "execution_count": 10,
   "metadata": {},
   "outputs": [
    {
     "name": "stdout",
     "output_type": "stream",
     "text": [
      "Top 5 neighbourhoods are \n",
      "\n",
      "Plaka          3143\n",
      "Neos Kosmos    2377\n",
      "Koukaki        2318\n",
      "Kolonaki       1722\n",
      "Pangrati       1702\n",
      "Name: neighbourhood, dtype: int64\n"
     ]
    }
   ],
   "source": [
    "print\"Top 5 neighbourhoods are \\n\\n{}\".format(df['neighbourhood'].value_counts().head(5))"
   ]
  },
  {
   "cell_type": "markdown",
   "metadata": {},
   "source": [
    "## Question 1.4"
   ]
  },
  {
   "cell_type": "markdown",
   "metadata": {},
   "source": [
    "What is the neighborhood with most real estate listings?\n"
   ]
  },
  {
   "cell_type": "code",
   "execution_count": 11,
   "metadata": {},
   "outputs": [
    {
     "name": "stdout",
     "output_type": "stream",
     "text": [
      "The neighbourhood with the most listings is Plaka with 3143 properties\n"
     ]
    }
   ],
   "source": [
    "res = df['neighbourhood'].value_counts()\n",
    "neig = res.keys().tolist()[0]\n",
    "n_props = res.tolist()[0]\n",
    "print(\"The neighbourhood with the most listings is {} with {} properties\".format(neig, n_props))"
   ]
  },
  {
   "cell_type": "markdown",
   "metadata": {},
   "source": [
    "## Question 1.5\n"
   ]
  },
  {
   "cell_type": "markdown",
   "metadata": {},
   "source": [
    "How many entries are per neighborhood and per month?\n"
   ]
  },
  {
   "cell_type": "markdown",
   "metadata": {},
   "source": [
    "#### Entries per month"
   ]
  },
  {
   "cell_type": "code",
   "execution_count": 12,
   "metadata": {},
   "outputs": [
    {
     "data": {
      "image/png": "[encoded data removed]",
      "text/plain": [
       "<Figure size 576x432 with 1 Axes>"
      ]
     },
     "metadata": {
      "needs_background": "light"
     },
     "output_type": "display_data"
    }
   ],
   "source": [
    "df['month'].value_counts().plot(kind = 'bar', color=['red', 'green', 'blue'], figsize = (8, 6))\n",
    "plt.title('Entries per month', fontsize = 20)\n",
    "plt.xlabel('Month')\n",
    "plt.ylabel('Number of entries')\n",
    "plt.show()"
   ]
  },
  {
   "cell_type": "code",
   "execution_count": 13,
   "metadata": {},
   "outputs": [
    {
     "name": "stdout",
     "output_type": "stream",
     "text": [
      "Entries per month\n",
      "\n",
      "9661 in April\n",
      "9361 in March\n",
      "9100 in February\n"
     ]
    }
   ],
   "source": [
    "months = df['month'].value_counts().keys().tolist()\n",
    "values = df['month'].value_counts().tolist()\n",
    "\n",
    "print('Entries per month\\n')\n",
    "for i,month in enumerate(months):\n",
    "    print('{1} in {0}'.format(month, values[i]))"
   ]
  },
  {
   "cell_type": "markdown",
   "metadata": {},
   "source": [
    "#### Entries per neighbourhood"
   ]
  },
  {
   "cell_type": "code",
   "execution_count": 14,
   "metadata": {},
   "outputs": [
    {
     "data": {
      "image/png": "[encoded data removed]",
      "text/plain": [
       "<Figure size 576x432 with 1 Axes>"
      ]
     },
     "metadata": {
      "needs_background": "light"
     },
     "output_type": "display_data"
    }
   ],
   "source": [
    "df['neighbourhood'].value_counts().plot(kind = 'bar', figsize = (8, 6))\n",
    "plt.title('Entries per neighbourhood', fontsize = 20)\n",
    "plt.xlabel('Neighbourhood')\n",
    "plt.ylabel('Number of entries')\n",
    "plt.show()"
   ]
  },
  {
   "cell_type": "code",
   "execution_count": 17,
   "metadata": {},
   "outputs": [
    {
     "name": "stdout",
     "output_type": "stream",
     "text": [
      "Entries per month\n",
      "\n",
      "3143 in Plaka\n",
      "2377 in Neos Kosmos\n",
      "2318 in Koukaki\n",
      "1722 in Kolonaki\n",
      "1702 in Pangrati\n",
      "1577 in Larissis\n",
      "1527 in Metaxourgeio\n",
      "1482 in Ambelokipi\n",
      "1472 in Psyri\n",
      "1330 in Exarcheia\n",
      "845 in Pedion Areos\n",
      "838 in Mets\n",
      "791 in Kypseli\n",
      "758 in Attiki\n",
      "756 in Kerameikos\n",
      "706 in Neapoli\n",
      "700 in Petralona\n",
      "670 in Patisia\n",
      "611 in Agios Nikolaos\n",
      "520 in Thiseio\n",
      "502 in Ilisia\n",
      "370 in Kolonos\n",
      "282 in Gazi\n",
      "209 in Agios Loukas\n",
      "163 in Votanikos\n",
      "114 in Akadimia Platonos\n",
      "97 in Sepolia\n",
      "87 in Goudi\n",
      "81 in Monastiraki\n",
      "59 in Rizoupoli\n",
      "40 in Profitis Daniil\n",
      "12 in Rouf\n"
     ]
    }
   ],
   "source": [
    "neighbourhoods = df['neighbourhood'].value_counts().keys().tolist()\n",
    "values = df['neighbourhood'].value_counts().tolist()\n",
    "\n",
    "print('Entries per month\\n')\n",
    "for i,neighbourhood in enumerate(neighbourhoods):\n",
    "    print('{1} in {0}'.format(neighbourhood, values[i]))"
   ]
  },
  {
   "cell_type": "markdown",
   "metadata": {},
   "source": [
    "## Question 1.6"
   ]
  },
  {
   "cell_type": "markdown",
   "metadata": {},
   "source": [
    "Plot the histogram of the neighborhood_group variable.\n"
   ]
  },
  {
   "cell_type": "code",
   "execution_count": null,
   "metadata": {},
   "outputs": [],
   "source": [
    "df.hist(column='neighbourhood', by='id', figsize=(12,4))\n"
   ]
  },
  {
   "cell_type": "markdown",
   "metadata": {},
   "source": [
    "## Question 1.7"
   ]
  },
  {
   "cell_type": "markdown",
   "metadata": {},
   "source": [
    "What is the most common type of room (room_type)?\n"
   ]
  }
 ],
 "metadata": {
  "kernelspec": {
   "display_name": "Python 2",
   "language": "python",
   "name": "python2"
  },
  "language_info": {
   "codemirror_mode": {
    "name": "ipython",
    "version": 2
   },
   "file_extension": ".py",
   "mimetype": "text/x-python",
   "name": "python",
   "nbconvert_exporter": "python",
   "pygments_lexer": "ipython2",
   "version": "2.7.15+"
  }
 },
 "nbformat": 4,
 "nbformat_minor": 2
}
